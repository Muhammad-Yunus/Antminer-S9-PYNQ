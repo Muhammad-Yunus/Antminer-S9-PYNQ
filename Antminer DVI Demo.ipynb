{
 "cells": [
  {
   "cell_type": "markdown",
   "metadata": {},
   "source": [
    "# Demo DVI Display\n",
    "- Source : \n",
    "    - https://adaptivesupport.amd.com/s/article/932553?language=en_US\n",
    "    - https://tzechienchu.typepad.com/embeddedandfpga/2019/02/pynq-hdmi-tpg-output.html\n",
    "- Upload `Overlay/antminerDVI` into Antminer S9 via SFTP into folder `/home/xilinx/pynq/overlays/`<br><br>\n",
    "\n",
    "<img src=\"resource/antminer_dvi_wiring.jpg\" width=\"900px\">"
   ]
  },
  {
   "cell_type": "code",
   "execution_count": 1,
   "metadata": {},
   "outputs": [
    {
     "data": {
      "application/javascript": "\nrequire(['notebook/js/codecell'], function(codecell) {\n  codecell.CodeCell.options_default.highlight_modes[\n      'magic_text/x-csrc'] = {'reg':[/^%%microblaze/]};\n  Jupyter.notebook.events.one('kernel_ready.Kernel', function(){\n      Jupyter.notebook.get_cells().map(function(cell){\n          if (cell.cell_type == 'code'){ cell.auto_highlight(); } }) ;\n  });\n});\n"
     },
     "metadata": {},
     "output_type": "display_data"
    }
   ],
   "source": [
    "from pynq import Overlay, MMIO"
   ]
  },
  {
   "cell_type": "code",
   "execution_count": 12,
   "metadata": {},
   "outputs": [],
   "source": [
    "overlay = Overlay(\"antminerDVI.bit\")"
   ]
  },
  {
   "cell_type": "code",
   "execution_count": 13,
   "metadata": {},
   "outputs": [],
   "source": [
    "tpg = overlay.v_tpg_0\n",
    "vtc = overlay.v_tc_0"
   ]
  },
  {
   "cell_type": "code",
   "execution_count": 14,
   "metadata": {},
   "outputs": [],
   "source": [
    "tpg.write(0x10, 600)  # Set height to 600\n",
    "tpg.write(0x18, 800)  # Set width to 800\n",
    "tpg.write(0x40, 0)\n",
    "tpg.write(0x20, 9) # COLOR BAR https://github.com/Xilinx/embeddedsw/blob/master/XilinxProcessorIPLib/drivers/v_tpg/src/xv_tpg.h\n",
    "tpg.write(0x00, 0x81)\n",
    "vtc.write(0x00, 0x01)"
   ]
  },
  {
   "cell_type": "code",
   "execution_count": 15,
   "metadata": {},
   "outputs": [
    {
     "name": "stdout",
     "output_type": "stream",
     "text": [
      "Control Register: 0x83\n"
     ]
    }
   ],
   "source": [
    "control_value = tpg.read(0x00)\n",
    "print(f\"Control Register: {hex(control_value)}\")"
   ]
  },
  {
   "cell_type": "code",
   "execution_count": 16,
   "metadata": {},
   "outputs": [
    {
     "name": "stdout",
     "output_type": "stream",
     "text": [
      "Pattern ID Register: 0x9\n"
     ]
    }
   ],
   "source": [
    "# Check the pattern ID register (usually 0x20 or similar)\n",
    "pattern_id = tpg.read(0x20)\n",
    "print(f\"Pattern ID Register: {hex(pattern_id)}\")"
   ]
  }
 ],
 "metadata": {
  "kernelspec": {
   "display_name": "Python 3",
   "language": "python",
   "name": "python3"
  }
 },
 "nbformat": 4,
 "nbformat_minor": 2
}
