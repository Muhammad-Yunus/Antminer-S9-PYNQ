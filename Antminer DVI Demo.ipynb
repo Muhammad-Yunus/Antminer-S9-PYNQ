{
 "cells": [
  {
   "cell_type": "markdown",
   "metadata": {},
   "source": [
    "# Demo DVI Display\n",
    "- Source : \n",
    "    - https://adaptivesupport.amd.com/s/article/932553?language=en_US\n",
    "    - https://tzechienchu.typepad.com/embeddedandfpga/2019/02/pynq-hdmi-tpg-output.html\n",
    "- Upload `Overlay/antminerDVI` into Antminer S9 via SFTP into folder `/home/xilinx/pynq/overlays/`<br><br>\n",
    "\n",
    "<img src=\"resource/antminer_dvi_wiring.jpg\" width=\"900px\">"
   ]
  },
  {
   "cell_type": "code",
   "execution_count": null,
   "metadata": {},
   "outputs": [],
   "source": [
    "from pynq import Overlay, MMIO"
   ]
  },
  {
   "cell_type": "code",
   "execution_count": 11,
   "metadata": {},
   "outputs": [],
   "source": [
    "overlay = Overlay(\"antminerDVI.bit\")"
   ]
  },
  {
   "cell_type": "code",
   "execution_count": 12,
   "metadata": {},
   "outputs": [],
   "source": [
    "tpg = overlay.v_tpg_0\n",
    "vtc = overlay.v_tc_0"
   ]
  },
  {
   "cell_type": "code",
   "execution_count": 13,
   "metadata": {},
   "outputs": [],
   "source": [
    "tpg.write(0x10, 600)  # Set height to 600\n",
    "tpg.write(0x18, 800)  # Set width to 800\n",
    "tpg.write(0x40, 0)\n",
    "tpg.write(0x20, 9) # COLOR BAR https://github.com/Xilinx/embeddedsw/blob/master/XilinxProcessorIPLib/drivers/v_tpg/src/xv_tpg.h\n",
    "tpg.write(0x00, 0x80)\n",
    "vtc.write(0x00, 0x01)"
   ]
  },
  {
   "cell_type": "code",
   "execution_count": null,
   "metadata": {},
   "outputs": [],
   "source": [
    "control_value = tpg.read(0x00)\n",
    "print(f\"Control Register: {hex(control_value)}\")"
   ]
  },
  {
   "cell_type": "code",
   "execution_count": null,
   "metadata": {},
   "outputs": [],
   "source": [
    "# Check the pattern ID register (usually 0x20 or similar)\n",
    "pattern_id = tpg.read(0x20)\n",
    "print(f\"Pattern ID Register: {hex(pattern_id)}\")"
   ]
  }
 ],
 "metadata": {
  "kernelspec": {
   "display_name": "Python 3",
   "language": "python",
   "name": "python3"
  },
  "language_info": {
   "codemirror_mode": {
    "name": "ipython",
    "version": 3
   },
   "file_extension": ".py",
   "mimetype": "text/x-python",
   "name": "python",
   "nbconvert_exporter": "python",
   "pygments_lexer": "ipython3",
   "version": "3.6.5"
  }
 },
 "nbformat": 4,
 "nbformat_minor": 2
}
