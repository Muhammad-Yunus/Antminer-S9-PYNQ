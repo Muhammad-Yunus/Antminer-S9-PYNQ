{
 "cells": [
  {
   "cell_type": "markdown",
   "metadata": {},
   "source": [
    "# Antminer S9 as FPGA Dev Board\n",
    "- SoC ZYNQ 7010 (Dual Core ARM Cortex-A9 + FPGA Artix-7 28.000 Logic Cells) <br><br>\n",
    "<img src=\"resource/Antminer S9.jpg\" width=\"900px\">\n"
   ]
  },
  {
   "cell_type": "markdown",
   "metadata": {},
   "source": [
    "### 1. Prerequisites\n",
    "- Antminer S9 Control Board\n",
    "- SD Card flashed with PYNQ 2.5\n",
    "    - Download from : [https://github.com/cnchens/s9-v1.2-pynq2.5/tree/master](https://github.com/cnchens/s9-v1.2-pynq2.5/tree/master)\n",
    "    - Flash using Balena Etcher\n",
    "- Install `AntminerGPIO` Overlay from [https://github.com/guannan-he/Antminer_s9_pynq/tree/main](https://github.com/guannan-he/Antminer_s9_pynq/tree/main)"
   ]
  },
  {
   "cell_type": "markdown",
   "metadata": {},
   "source": [
    "### 2. Load Overlay"
   ]
  },
  {
   "cell_type": "code",
   "execution_count": null,
   "metadata": {},
   "outputs": [],
   "source": [
    "from pynq import Overlay\n",
    "from pynq.lib import AxiGPIO\n",
    "import time"
   ]
  },
  {
   "cell_type": "code",
   "execution_count": 2,
   "metadata": {},
   "outputs": [],
   "source": [
    "gpio = Overlay('antminerGPIO.bit')"
   ]
  },
  {
   "cell_type": "code",
   "execution_count": null,
   "metadata": {},
   "outputs": [],
   "source": [
    "gpio?"
   ]
  },
  {
   "cell_type": "markdown",
   "metadata": {},
   "source": [
    "- Hardware design for 'antminerGPIO.bit'<br><br>\n",
    "<img src=\"https://raw.githubusercontent.com/guannan-he/Antminer_s9_pynq/main/antminerGPIO/pics/block_design_base.png\" width=\"700px\">"
   ]
  },
  {
   "cell_type": "markdown",
   "metadata": {},
   "source": [
    "### 3. Playing with On-board LED\n",
    "- Using Xilinx AXI GPIO \n",
    "    - ip block `\"plLED\"`"
   ]
  },
  {
   "cell_type": "code",
   "execution_count": 30,
   "metadata": {},
   "outputs": [],
   "source": [
    "led_instance = gpio.ip_dict[\"plLED\"]\n",
    "leds = AxiGPIO(led_instance).channel1"
   ]
  },
  {
   "cell_type": "code",
   "execution_count": 6,
   "metadata": {},
   "outputs": [],
   "source": [
    "leds[0:4].write(0b1110)  # first led enlightened(near eth port)"
   ]
  },
  {
   "cell_type": "code",
   "execution_count": 7,
   "metadata": {},
   "outputs": [],
   "source": [
    "leds[0:4].write(0b0111)  # last led enlightened"
   ]
  },
  {
   "cell_type": "code",
   "execution_count": null,
   "metadata": {},
   "outputs": [],
   "source": [
    "# running 4 led\n",
    "\n",
    "i = 0\n",
    "while i < 100 :\n",
    "    j = i % 8\n",
    "    if j < 4:\n",
    "        value = 0b1111 >> j  # This shifts the bits to the right\n",
    "    else:\n",
    "        value = 0b1111 >> (7 - j) # This reverses the pattern after 0000\n",
    "    leds[0:4].write(value) \n",
    "    time.sleep(0.125)\n",
    "    i += 1"
   ]
  },
  {
   "cell_type": "code",
   "execution_count": 20,
   "metadata": {},
   "outputs": [],
   "source": [
    "leds[0:4].off()  # turn on all leds"
   ]
  },
  {
   "cell_type": "code",
   "execution_count": null,
   "metadata": {},
   "outputs": [],
   "source": [
    "leds[0:4].on()  # shut down all leds"
   ]
  },
  {
   "cell_type": "markdown",
   "metadata": {},
   "source": [
    "<br><br><br><br>\n",
    "### 4. Playing with GPIO in Port 0 - 8\n",
    "- Using Xilinx AXI GPIO \n",
    "    - ip block `\"plMiner0\"` - `\"plMiner8\"`\n",
    "<br><br>\n",
    "<img src=\"resource/Antminer S9 Pin Mapping.png\" width=\"1000px\">"
   ]
  },
  {
   "cell_type": "code",
   "execution_count": 3,
   "metadata": {},
   "outputs": [],
   "source": [
    "miner_instance = gpio.ip_dict[\"plMiner0\"]\n",
    "miner0 = AxiGPIO(miner_instance).channel1\n",
    "miner0.setdirection('inout')"
   ]
  },
  {
   "cell_type": "markdown",
   "metadata": {},
   "source": [
    "- `miner0[0:4].write()` will `write` digital state into `pin 3`, `pin 2`, `pin 1`, `pin 0` on `\"plMiner0\"`\n",
    "- `miner0[0].write()` will `write` digital state into `pin 3` on `\"plMiner0\"`\n",
    "- `miner0[1].write()` will `write` digital state into `pin 2` on `\"plMiner0\"`\n",
    "- `miner0[2].write()` will `write` digital state into `pin 1` on `\"plMiner0\"`\n",
    "- `miner0[3].write()` will `write` digital state into `pin 0` on `\"plMiner0\"`"
   ]
  },
  {
   "cell_type": "code",
   "execution_count": 12,
   "metadata": {},
   "outputs": [],
   "source": [
    "miner0[0:4].write(0b1111) # turn all miner0 output to HIGH"
   ]
  },
  {
   "cell_type": "code",
   "execution_count": 13,
   "metadata": {},
   "outputs": [],
   "source": [
    "miner0[0:4].write(0b0000) # turn all miner0 output to LOW"
   ]
  },
  {
   "cell_type": "markdown",
   "metadata": {},
   "source": [
    "- XILINX AXI GPIO Input or Output via Channel Trigate"
   ]
  },
  {
   "cell_type": "code",
   "execution_count": null,
   "metadata": {},
   "outputs": [],
   "source": [
    "#miner0[0:4].write(0b1111) # initial state of all gpio in miner0 to HIGH\n",
    "miner0[0:4].write(0b0000) # initial state of all gpio in miner0 to LOW\n",
    "print(\"Miner0 Trimask Out : \", miner0.trimask)\n",
    "\n",
    "miner0.trimask = 0xf  # reset port trigate as input\n",
    "print(\"Miner0 Trimask In : \", miner0.trimask)\n",
    "\n",
    "print(\"Miner0 Value : \", bin(miner0.read())) # read the value of miner0\n",
    "\n",
    "miner0.trimask = 0x0  # turn back to output \n",
    "print(\"Miner0 Trimask Out : \", miner0.trimask)"
   ]
  },
  {
   "cell_type": "markdown",
   "metadata": {},
   "source": [
    "- XILINX AXI GPIO Input or Output via `.setdirection('in')` and `.setdirection('out')`"
   ]
  },
  {
   "cell_type": "code",
   "execution_count": null,
   "metadata": {},
   "outputs": [],
   "source": [
    "#miner0[0:4].write(0b1111) # initial state of all gpio in miner0 to HIGH\n",
    "miner0[0:4].write(0b0000) # initial state of all gpio in miner0 to LOW\n",
    "miner0.setdirection('out') \n",
    "print(\"Miner0 Trimask Out : \", miner0.trimask)\n",
    "\n",
    "miner0.setdirection('in') # set miner0 as input\n",
    "print(\"Miner0 Trimask In : \", miner0.trimask)\n",
    "\n",
    "print(\"Miner0 Value : \", bin(miner0.read())) # read the value of miner0\n",
    "\n",
    "miner0.setdirection('out') # turn back to output \n",
    "print(\"Miner0 Trimask Out : \", miner0.trimask)"
   ]
  },
  {
   "cell_type": "markdown",
   "metadata": {},
   "source": [
    "- XILINX AXI GPIO Input and Output (Bi-directional)"
   ]
  },
  {
   "cell_type": "code",
   "execution_count": null,
   "metadata": {},
   "outputs": [],
   "source": [
    "miner0.setdirection('inout') # set miner0 as input & output (bi-directional)\n",
    "\n",
    "for __ in range(10):\n",
    "    miner0[0:4].write(0b0000) # initial state of all gpio in miner0 to LOW\n",
    "    print(\"Miner0 Value LOW : \", bin(miner0.read())) # read the value of miner0\n",
    "    time.sleep(1)\n",
    "\n",
    "    miner0[0:4].write(0b1111) # initial state of all gpio in miner0 to HIGH\n",
    "    print(\"Miner0 Value HIGH : \", bin(miner0.read())) # read the value of miner0\n",
    "    time.sleep(1)\n"
   ]
  },
  {
   "cell_type": "markdown",
   "metadata": {},
   "source": [
    "<br><br><br><br>\n",
    "### 5. Playing with 7 Segment\n",
    "- Wiring diagram <br><br>\n",
    "<img src=\"resource/7Segment Wiring.png\" width=\"700px\">"
   ]
  },
  {
   "cell_type": "code",
   "execution_count": 14,
   "metadata": {},
   "outputs": [],
   "source": [
    "gpio_7segment_a_instant = gpio.ip_dict[\"plMiner1\"]\n",
    "gpio_7segment_a = AxiGPIO(gpio_7segment_a_instant).channel1\n",
    "\n",
    "gpio_7segment_b_instant = gpio.ip_dict[\"plMiner2\"]\n",
    "gpio_7segment_b = AxiGPIO(gpio_7segment_b_instant).channel1"
   ]
  },
  {
   "cell_type": "code",
   "execution_count": 27,
   "metadata": {},
   "outputs": [],
   "source": [
    "# turn all 7 segment element to ON\n",
    "gpio_7segment_a[0:4].write(0b1111) # d c b a\n",
    "gpio_7segment_b[0:4].write(0b1111) # dp h g f"
   ]
  },
  {
   "cell_type": "code",
   "execution_count": null,
   "metadata": {},
   "outputs": [],
   "source": [
    "# 7 segmnet counting up and down\n",
    "\n",
    "seven_segment_config = {\n",
    "    0: (0b1111, 0b0011),  # Display '0'\n",
    "    1: (0b0110, 0b0000),  # Display '1'\n",
    "    2: (0b1011, 0b0101),  # Display '2'\n",
    "    3: (0b1111, 0b0100),  # Display '3'\n",
    "    4: (0b0110, 0b0110),  # Display '4'\n",
    "    5: (0b1101, 0b0110),  # Display '5'\n",
    "    6: (0b1101, 0b0111),  # Display '6'\n",
    "    7: (0b0111, 0b0000),  # Display '7'\n",
    "    8: (0b1111, 0b0111),  # Display '8'\n",
    "    9: (0b1111, 0b0110),  # Display '9'\n",
    "}\n",
    "\n",
    "iterator = None\n",
    "for j in range(10000) :\n",
    "    iterator = range(9, -1, -1) if j % 2 else range(1, 9)\n",
    "    \n",
    "    for i in iterator :\n",
    "        value = seven_segment_config[i]\n",
    "        gpio_7segment_a[0:4].write(value[0])\n",
    "        gpio_7segment_b[0:4].write(value[1])\n",
    "\n",
    "        time.sleep(0.25)"
   ]
  },
  {
   "cell_type": "code",
   "execution_count": 29,
   "metadata": {},
   "outputs": [],
   "source": [
    "# turn all 7 segment element to OFF\n",
    "gpio_7segment_a[0:4].write(0b0000) \n",
    "gpio_7segment_b[0:4].write(0b0000) "
   ]
  },
  {
   "cell_type": "markdown",
   "metadata": {},
   "source": [
    "<br><br><br><br>\n",
    "### 6. Playing with TM1638 7 Segment Display Keypad & LED Module\n",
    "- Wiring diagram <br><br>\n",
    "<img src=\"resource/TM1638.png\" width=\"900px\">"
   ]
  },
  {
   "cell_type": "code",
   "execution_count": 30,
   "metadata": {},
   "outputs": [],
   "source": [
    "TM1638_CMD1 = 0x40   # 0x40 data command\n",
    "TM1638_CMD2 = 0xC0   # 0xC0 address command\n",
    "TM1638_CMD3 = 0x80   # 0x80 display control command\n",
    "TM1638_DSP_ON = 0x08 # 0x08 display on\n",
    "TM1638_READ = 0x02   # 0x02 read key scan data\n",
    "TM1638_FIXED = 0x04  # 0x04 fixed address mode\n",
    "\n",
    "#                         0   1   2   3   4   5   6   7   8   9   A   B   C   D   E   F   G   H   I   J   K   L   M   N   O   P   Q   R   S   T   U   V   W   X   Y   Z  BL DASH STAR\n",
    "_SEGMENTS = bytearray(b'\\x3F\\x06\\x5B\\x4F\\x66\\x6D\\x7D\\x07\\x7F\\x6F\\x77\\x7C\\x39\\x5E\\x79\\x71\\x7D\\x76\\x06\\x1E\\x76\\x38\\x55\\x54\\x3F\\x73\\x67\\x50\\x6D\\x78\\x3E\\x1C\\x2A\\x76\\x6E\\x5B\\x00\\x40\\x63')"
   ]
  },
  {
   "cell_type": "code",
   "execution_count": 31,
   "metadata": {},
   "outputs": [],
   "source": [
    "class TM1638(object):\n",
    "    \"\"\"\n",
    "    Library for the TM1638 LED display driver.\n",
    "    Original author : https://github.com/mcauser/micropython-tm1638\n",
    "    Modified by : https://github.com/Muhammad-Yunus\n",
    "    \"\"\"\n",
    "    def __init__(self, stb_pin=0, clk_pin=3, dio_pin=2, pl_port=\"plMiner3\", pl_overlay='antminerGPIO.bit', brightness=7):\n",
    "\n",
    "        self._stb_pin = stb_pin\n",
    "        self._clk_pin = clk_pin\n",
    "        self._dio_pin = dio_pin\n",
    "        self._pl_port = pl_port\n",
    "        self._pl_overlay = pl_overlay\n",
    "        \n",
    "        self._gpio = Overlay(self._pl_overlay)\n",
    "        self._tm1638 = AxiGPIO(self._gpio.ip_dict[self._pl_port]).channel1\n",
    "\n",
    "        if not 0 <= brightness <= 7:\n",
    "            raise ValueError(\"Brightness out of range\")\n",
    "        self._brightness = brightness\n",
    "\n",
    "        self._on = TM1638_DSP_ON\n",
    "        \n",
    "        self.clk(1)\n",
    "        self.dio(0)\n",
    "        self.stb(1)\n",
    "        \n",
    "        self.clear()\n",
    "        self._write_dsp_ctrl()\n",
    "        \n",
    "    def stb(self, value):\n",
    "        self._tm1638[self._stb_pin].write(value)\n",
    "        \n",
    "    def clk(self, value):\n",
    "        self._tm1638[self._clk_pin].write(value)\n",
    "      \n",
    "    def dio(self, value):\n",
    "        self._tm1638[self._dio_pin].write(value)\n",
    "\n",
    "    def dio_read(self):\n",
    "        value = self._tm1638.read() \n",
    "        return self._get_bit_value(value, self._dio_pin)\n",
    "    \n",
    "    def _get_bit_value(self, data, position):\n",
    "        return (data >> position) & 1\n",
    "\n",
    "    def _write_data_cmd(self):\n",
    "        # data command: automatic address increment, normal mode\n",
    "        self._command(TM1638_CMD1)\n",
    "\n",
    "    def _set_address(self, addr=0):\n",
    "        # address command: move to address\n",
    "        self._byte(TM1638_CMD2 | addr)\n",
    "\n",
    "    def _write_dsp_ctrl(self):\n",
    "        # display command: display on, set brightness\n",
    "        self._command(TM1638_CMD3 | self._on | self._brightness)\n",
    "\n",
    "    def _command(self, cmd):\n",
    "        self.stb(0)\n",
    "        self._byte(cmd)\n",
    "        self.stb(1)\n",
    "\n",
    "    def _byte(self, b):\n",
    "        for i in range(8):\n",
    "            if i > 0 : \n",
    "                value = ((b >> i) & 1) \n",
    "                prev_value = ((b >> (i-1)) & 1) \n",
    "                if value == prev_value and value == 1: # If last DIO and Current DIO is 1\n",
    "                    self._tm1638[2:4].write(1) # CLK LOW | DIO HIGH\n",
    "                else :\n",
    "                    self._tm1638[2:4].write(0) # CLK LOW | DIO LOW\n",
    "            else :\n",
    "                self.clk(0) # CLK LOW , Initial Position\n",
    "            value = 1 << 1 | ((b >> i) & 1) # CLK HIGH | LSB DATA\n",
    "            self._tm1638[self._dio_pin:self._clk_pin+1].write(value) \n",
    "\n",
    "    def _scan_keys(self):\n",
    "        \"\"\"Reads one of the four bytes representing which keys are pressed.\"\"\"\n",
    "        pressed = 0\n",
    "        for i in range(8):\n",
    "            self.clk(0)       \n",
    "            if self.dio_read():\n",
    "                pressed |= 1 << i\n",
    "            self.clk(1)\n",
    "            \n",
    "        return pressed\n",
    "\n",
    "    def power(self, val=None):\n",
    "        \"\"\"Power up, power down or check status\"\"\"\n",
    "        if val is None:\n",
    "            return self._on == TM1638_DSP_ON\n",
    "        self._on = TM1638_DSP_ON if val else 0\n",
    "        self._write_dsp_ctrl()\n",
    "\n",
    "    def brightness(self, val=None):\n",
    "        \"\"\"Set the display brightness 0-7.\"\"\"\n",
    "        # brightness 0 = 1/16th pulse width\n",
    "        # brightness 7 = 14/16th pulse width\n",
    "        if val is None:\n",
    "            return self._brightness\n",
    "        if not 0 <= val <= 7:\n",
    "            raise ValueError(\"Brightness out of range\")\n",
    "        self._brightness = val\n",
    "        self._write_dsp_ctrl()\n",
    "\n",
    "    def clear(self):\n",
    "        \"\"\"Write zeros to each address\"\"\"\n",
    "        self._write_data_cmd()\n",
    "        self.stb(0)\n",
    "        self._set_address(0)\n",
    "        for i in range(16):\n",
    "            self._byte(0x00)\n",
    "        self.stb(1)\n",
    "\n",
    "    def write(self, data, pos=0):\n",
    "        \"\"\"Write to all 16 addresses from a given position.\n",
    "        Order is left to right, 1st segment, 1st LED, 2nd segment, 2nd LED etc.\"\"\"\n",
    "        if not 0 <= pos <= 15:\n",
    "            raise ValueError(\"Position out of range\")\n",
    "        self._write_data_cmd()\n",
    "        self.stb(0)\n",
    "        self._set_address(pos)\n",
    "        for b in data:\n",
    "            self._byte(b)\n",
    "        self.stb(1)\n",
    "\n",
    "    def led(self, pos, val):\n",
    "        \"\"\"Set the value of a single LED\"\"\"\n",
    "        self.write([val], (pos << 1) + 1)\n",
    "\n",
    "    def leds(self, val):\n",
    "        \"\"\"Set all LEDs at once. LSB is left most LED.\n",
    "        Only writes to the LED positions (every 2nd starting from 1)\"\"\"\n",
    "        self._write_data_cmd()\n",
    "        pos = 1\n",
    "        for i in range(8):\n",
    "            self.stb(0)\n",
    "            self._set_address(pos)\n",
    "            self._byte((val >> i) & 1)\n",
    "            pos += 2\n",
    "            self.stb(1)\n",
    "\n",
    "    def segments(self, segments, pos=0):\n",
    "        \"\"\"Set one or more segments at a relative position.\n",
    "        Only writes to the segment positions (every 2nd starting from 0)\"\"\"\n",
    "        if not 0 <= pos <= 7:\n",
    "            raise ValueError(\"Position out of range\")\n",
    "        self._write_data_cmd()\n",
    "        for seg in segments:\n",
    "            self.stb(0)\n",
    "            self._set_address(pos << 1)\n",
    "            self._byte(seg)\n",
    "            pos += 1\n",
    "            self.stb(1)\n",
    "\n",
    "    def keys(self):\n",
    "        \"\"\"Return a byte representing which keys are pressed. LSB is SW1\"\"\"\n",
    "        keys = 0\n",
    "        self.stb(0)\n",
    "        self._byte(TM1638_CMD1 | TM1638_READ)\n",
    "        for i in range(4):\n",
    "            keys |= self._scan_keys() << i\n",
    "        self.stb(1)\n",
    "        return keys\n",
    "\n",
    "    def qyf_keys(self):\n",
    "        \"\"\"Return a 16-bit value representing which keys are pressed. LSB is SW1\"\"\"\n",
    "        keys = 0\n",
    "        self.stb(0)\n",
    "        self._byte(TM1638_CMD1 | TM1638_READ)\n",
    "        for i in range(4):\n",
    "            i_keys = self._scan_keys()\n",
    "            for k in range(2):\n",
    "                for j in range(2):\n",
    "                    x = (0x04 >> k) << j*4\n",
    "                    if i_keys & x == x:\n",
    "                        keys |= (1 << (j + k*8 + 2*i))\n",
    "        self.stb(1)\n",
    "        return keys\n",
    "\n",
    "    def encode_digit(self, digit):\n",
    "        \"\"\"Convert a character 0-9, a-f to a segment.\"\"\"\n",
    "        return _SEGMENTS[digit & 0x0f]\n",
    "\n",
    "    def encode_string(self, string):\n",
    "        \"\"\"Convert an up to 8 character length string containing 0-9, a-z,\n",
    "        space, dash, star to an array of segments, matching the length of the\n",
    "        source string excluding dots, which are merged with previous char.\"\"\"\n",
    "        segments = bytearray(len(string.replace('.','')))\n",
    "        j = 0\n",
    "        for i in range(len(string)):\n",
    "            if string[i] == '.' and j > 0:\n",
    "                segments[j-1] |= (1 << 7)\n",
    "                continue\n",
    "            segments[j] = self.encode_char(string[i])\n",
    "            j += 1\n",
    "        return segments\n",
    "\n",
    "    def encode_char(self, char):\n",
    "        \"\"\"Convert a character 0-9, a-z, space, dash or star to a segment.\"\"\"\n",
    "        o = ord(char)\n",
    "        if o == 32:\n",
    "            return _SEGMENTS[36] # space\n",
    "        if o == 42:\n",
    "            return _SEGMENTS[38] # star/degrees\n",
    "        if o == 45:\n",
    "            return _SEGMENTS[37] # dash\n",
    "        if o >= 65 and o <= 90:\n",
    "            return _SEGMENTS[o-55] # uppercase A-Z\n",
    "        if o >= 97 and o <= 122:\n",
    "            return _SEGMENTS[o-87] # lowercase a-z\n",
    "        if o >= 48 and o <= 57:\n",
    "            return _SEGMENTS[o-48] # 0-9\n",
    "        raise ValueError(\"Character out of range: {:d} '{:s}'\".format(o, chr(o)))\n",
    "\n",
    "    def hex(self, val):\n",
    "        \"\"\"Display a hex value 0x00000000 through 0xffffffff, right aligned, leading zeros.\"\"\"\n",
    "        string = '{:08x}'.format(val & 0xffffffff)\n",
    "        self.segments(self.encode_string(string))\n",
    "\n",
    "    def number(self, num):\n",
    "        \"\"\"Display a numeric value -9999999 through 99999999, right aligned.\"\"\"\n",
    "        # limit to range -9999999 to 99999999\n",
    "        num = max(-9999999, min(num, 99999999))\n",
    "        string = '{0: >8d}'.format(num)\n",
    "        self.segments(self.encode_string(string))\n",
    "\n",
    "    #def float(self, num):\n",
    "    #    # needs more work\n",
    "    #    string = '{0:>9f}'.format(num)\n",
    "    #    self.segments(self.encode_string(string[0:9]))\n",
    "\n",
    "    def temperature(self, num, pos=0):\n",
    "        \"\"\"Displays 2 digit temperature followed by degrees C\"\"\"\n",
    "        if num < -9:\n",
    "            self.show('lo', pos) # low\n",
    "        elif num > 99:\n",
    "            self.show('hi', pos) # high\n",
    "        else:\n",
    "            string = '{0: >2d}'.format(num)\n",
    "            self.segments(self.encode_string(string), pos)\n",
    "        self.show('*C', pos + 2) # degrees C\n",
    "\n",
    "    def humidity(self, num, pos=4):\n",
    "        \"\"\"Displays 2 digit humidity followed by RH\"\"\"\n",
    "        if num < -9:\n",
    "            self.show('lo', pos) # low\n",
    "        elif num > 99:\n",
    "            self.show('hi', pos) # high\n",
    "        else:\n",
    "            string = '{0: >2d}'.format(num)\n",
    "            self.segments(self.encode_string(string), pos)\n",
    "        self.show('rh', pos + 2) # relative humidity\n",
    "\n",
    "    def show(self, string, pos=0):\n",
    "        \"\"\"Displays a string\"\"\"\n",
    "        segments = self.encode_string(string)\n",
    "        self.segments(segments[:8], pos)\n",
    "\n",
    "    def scroll(self, string, delay=250):\n",
    "        \"\"\"Display a string, scrolling from the right to left, speed adjustable.\n",
    "        String starts off-screen right and scrolls until off-screen left.\"\"\"\n",
    "        segments = string if isinstance(string, list) else self.encode_string(string)\n",
    "        data = [0] * 16\n",
    "        data[8:0] = list(segments)\n",
    "        for i in range(len(segments) + 9):\n",
    "            self.segments(data[0+i:8+i])\n",
    "            time.sleep(delay/1000)"
   ]
  },
  {
   "cell_type": "code",
   "execution_count": 32,
   "metadata": {},
   "outputs": [],
   "source": [
    "# instantiate the TM1638 class\n",
    "tm = TM1638(brightness=3)"
   ]
  },
  {
   "cell_type": "code",
   "execution_count": null,
   "metadata": {},
   "outputs": [],
   "source": [
    "tm.show('FPGA')\n",
    "\n",
    "# Define the segment patterns\n",
    "patterns = [\n",
    "    [0x01, 0x01, 0x01, 0x01],\n",
    "    [0x00, 0x01, 0x01, 0x03],\n",
    "    [0x00, 0x00, 0x01, 0x07],\n",
    "    [0x00, 0x00, 0x00, 0x0F],\n",
    "    [0x00, 0x00, 0x08, 0x0E],\n",
    "    [0x00, 0x08, 0x08, 0x0C],\n",
    "    [0x08, 0x08, 0x08, 0x08],\n",
    "    [0x18, 0x08, 0x08, 0x00],\n",
    "    [0x38, 0x08, 0x00, 0x00],\n",
    "    [0x39, 0x00, 0x00, 0x00],\n",
    "    [0x31, 0x01, 0x00, 0x00],\n",
    "    [0x21, 0x01, 0x01, 0x00],\n",
    "]\n",
    "\n",
    "for __ in range(2000):\n",
    "    # Iterate over the patterns\n",
    "    for pattern in patterns:\n",
    "        tm.segments(pattern, 4)\n",
    "        time.sleep(0.06)"
   ]
  },
  {
   "cell_type": "code",
   "execution_count": null,
   "metadata": {},
   "outputs": [],
   "source": [
    "tm.show('FPGA')\n",
    "\n",
    "# Define the segment patterns\n",
    "patterns = [\n",
    "    [0x01, 0x01, 0x01, 0x01],\n",
    "    [0x00, 0x01, 0x01, 0x03],\n",
    "    [0x00, 0x00, 0x01, 0x07],\n",
    "    [0x00, 0x00, 0x00, 0x0F],\n",
    "    [0x00, 0x00, 0x08, 0x0E],\n",
    "    [0x00, 0x08, 0x08, 0x0C],\n",
    "    [0x08, 0x08, 0x08, 0x08],\n",
    "    [0x18, 0x08, 0x08, 0x00],\n",
    "    [0x38, 0x08, 0x00, 0x00],\n",
    "    [0x39, 0x00, 0x00, 0x00],\n",
    "    [0x31, 0x01, 0x00, 0x00],\n",
    "    [0x21, 0x01, 0x01, 0x00],\n",
    "]\n",
    "\n",
    "# Timing intervals for each animation\n",
    "pattern_interval = 0.01  # seconds\n",
    "led_interval = 0.01  # seconds\n",
    "\n",
    "# State variables for the animations\n",
    "pattern_index = 0\n",
    "led_index = 7\n",
    "led_state = True  # True for turning on, False for turning off\n",
    "\n",
    "# Time trackers\n",
    "last_pattern_time = time.time()\n",
    "last_led_time = time.time()\n",
    "\n",
    "while True:\n",
    "    current_time = time.time()\n",
    "\n",
    "    # Update the segment patterns\n",
    "    if current_time - last_pattern_time >= pattern_interval:\n",
    "        tm.segments(patterns[pattern_index], 4)\n",
    "        pattern_index = (pattern_index + 1) % len(patterns)  # Loop back to the start\n",
    "        last_pattern_time = current_time\n",
    "\n",
    "    # Update the LED animation\n",
    "    if current_time - last_led_time >= led_interval:\n",
    "        tm.led(led_index, 1 if led_state else 0)\n",
    "        last_led_time = current_time\n",
    "\n",
    "        if led_state:\n",
    "            led_index -= 1\n",
    "            if led_index < 0:  # All LEDs are turned on\n",
    "                led_state = False\n",
    "                led_index = 7\n",
    "        else:\n",
    "            led_index -= 1\n",
    "            if led_index < 0:  # All LEDs are turned off\n",
    "                led_state = True\n",
    "                led_index = 7\n"
   ]
  },
  {
   "cell_type": "code",
   "execution_count": 38,
   "metadata": {},
   "outputs": [],
   "source": [
    "# turn them on, one by one\n",
    "for i in range(8):\n",
    "    tm.led(i, 1)\n",
    "    #time.sleep(0.05)"
   ]
  },
  {
   "cell_type": "code",
   "execution_count": null,
   "metadata": {},
   "outputs": [],
   "source": [
    "while True: \n",
    "    tm.led(0, 1)\n",
    "    time.sleep(0.5)\n",
    "    tm.led(0, 0)\n",
    "    time.sleep(0.5)"
   ]
  },
  {
   "cell_type": "code",
   "execution_count": 245,
   "metadata": {},
   "outputs": [],
   "source": [
    "# turn them off, one by one\n",
    "for i in range(8):\n",
    "    tm.led(i, 0)\n",
    "    #time.sleep(0.05)"
   ]
  },
  {
   "cell_type": "code",
   "execution_count": 59,
   "metadata": {},
   "outputs": [],
   "source": [
    "tm.leds(255) # turn all leds on"
   ]
  },
  {
   "cell_type": "code",
   "execution_count": 60,
   "metadata": {},
   "outputs": [],
   "source": [
    "tm.leds(0) # turn all leds off"
   ]
  },
  {
   "cell_type": "code",
   "execution_count": 61,
   "metadata": {},
   "outputs": [],
   "source": [
    "# display \"01234567\" using bytes from the tm1638._SEGMENTS font\n",
    "tm.segments([0x3F,0x06,0x5B,0x4F,0x66,0x6D,0x7D,0x07])"
   ]
  },
  {
   "cell_type": "code",
   "execution_count": 43,
   "metadata": {},
   "outputs": [],
   "source": [
    "tm.show('88888888')"
   ]
  },
  {
   "cell_type": "code",
   "execution_count": 17,
   "metadata": {},
   "outputs": [],
   "source": [
    "# display \"abcdefgh\"\n",
    "tm.segments(tm.encode_string('abcdefgh'))"
   ]
  },
  {
   "cell_type": "code",
   "execution_count": 35,
   "metadata": {},
   "outputs": [],
   "source": [
    "# there is a .show() method for simplifying this\n",
    "tm.show('abcdefgh')"
   ]
  },
  {
   "cell_type": "code",
   "execution_count": 145,
   "metadata": {},
   "outputs": [],
   "source": [
    "# show supports a position offset, so you can insert characters anywhere in the 8x segments\n",
    "tm.show('abcdefg', 1)\n",
    "# tm.show('abcd')\n",
    "# tm.show('efgh', 4)"
   ]
  },
  {
   "cell_type": "code",
   "execution_count": 146,
   "metadata": {},
   "outputs": [],
   "source": [
    "# you can write blank segments by using spaces\n",
    "tm.show('   123.45')"
   ]
  },
  {
   "cell_type": "code",
   "execution_count": 83,
   "metadata": {},
   "outputs": [],
   "source": [
    "# a dot trailing a supported character will get merged with the character as the decimal place\n",
    "# tm.show('a.b.cdefgh')\n",
    "# tm.show('a.b.c.d.e.f.g.h.')\n",
    "tm.show('0.0000000')\n",
    "# tm.show('0.0.0.0.0000')"
   ]
  },
  {
   "cell_type": "code",
   "execution_count": null,
   "metadata": {},
   "outputs": [],
   "source": [
    "# the scroll method accepts any length string and displays it by scrolling in from the right until it is completely offscreen on the left\n",
    "while True :\n",
    "    tm.scroll('FPGA', 150)\n",
    "    # tm.scroll('4 FPS', 250)\n",
    "    # tm.scroll('faster', 125)\n",
    "    # tm.scroll('slower', 500)"
   ]
  },
  {
   "cell_type": "code",
   "execution_count": null,
   "metadata": {},
   "outputs": [],
   "source": [
    "# get which buttons are pressed on LED&KEY module\n",
    "\n",
    "for __ in range(10000):\n",
    "    print(bin(tm.keys()))\n",
    "    time.sleep(0.1)"
   ]
  },
  {
   "cell_type": "code",
   "execution_count": 253,
   "metadata": {},
   "outputs": [],
   "source": [
    "# clear all address\n",
    "tm.clear()"
   ]
  }
 ],
 "metadata": {
  "kernelspec": {
   "display_name": "Python 3",
   "language": "python",
   "name": "python3"
  }
 },
 "nbformat": 4,
 "nbformat_minor": 2
}
