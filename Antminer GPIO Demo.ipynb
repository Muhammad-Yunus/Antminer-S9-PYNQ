{
 "cells": [
  {
   "cell_type": "markdown",
   "metadata": {},
   "source": [
    "# Repurposhing Antminer S9 Control Board as FPGA Developmetn Board\n",
    "- SoC ZYNQ 7010 (Dual Core ARM Cortex-A9 + FPGA Artix-7 28.000 Logic Cells) <br><br>\n",
    "<img src=\"resource/Antminer S9.jpg\" width=\"900px\">\n"
   ]
  },
  {
   "cell_type": "markdown",
   "metadata": {},
   "source": [
    "### 1. Prerequisites\n",
    "- Antminer S9 Control Board\n",
    "- SD Card flashed with PYNQ 2.5\n",
    "    - Can be downloaded from : [https://github.com/cnchens/s9-v1.2-pynq2.5/tree/master](https://github.com/cnchens/s9-v1.2-pynq2.5/tree/master)\n",
    "    - Flash using Balena Etcher\n",
    "- Install `AntminerGPIO` Overlay from [https://github.com/guannan-he/Antminer_s9_pynq/tree/main](https://github.com/guannan-he/Antminer_s9_pynq/tree/main)"
   ]
  },
  {
   "cell_type": "markdown",
   "metadata": {},
   "source": [
    "### 2. Load Overlay"
   ]
  },
  {
   "cell_type": "code",
   "execution_count": 1,
   "metadata": {},
   "outputs": [
    {
     "data": {
      "application/javascript": "\nrequire(['notebook/js/codecell'], function(codecell) {\n  codecell.CodeCell.options_default.highlight_modes[\n      'magic_text/x-csrc'] = {'reg':[/^%%microblaze/]};\n  Jupyter.notebook.events.one('kernel_ready.Kernel', function(){\n      Jupyter.notebook.get_cells().map(function(cell){\n          if (cell.cell_type == 'code'){ cell.auto_highlight(); } }) ;\n  });\n});\n"
     },
     "metadata": {},
     "output_type": "display_data"
    }
   ],
   "source": [
    "from pynq import Overlay\n",
    "from pynq.lib import AxiGPIO\n",
    "import time"
   ]
  },
  {
   "cell_type": "code",
   "execution_count": 2,
   "metadata": {},
   "outputs": [],
   "source": [
    "gpio = Overlay('antminerGPIO.bit')"
   ]
  },
  {
   "cell_type": "markdown",
   "metadata": {},
   "source": [
    "- Hardware design for 'antminerGPIO.bit'<br><br>\n",
    "<img src=\"https://raw.githubusercontent.com/guannan-he/Antminer_s9_pynq/main/antminerGPIO/pics/block_design_base.png\" width=\"700px\">"
   ]
  },
  {
   "cell_type": "markdown",
   "metadata": {},
   "source": [
    "### 3. Play with On-board LED\n",
    "- Using Xilinx AXI GPIO \n",
    "    - ip block `\"plLED\"`"
   ]
  },
  {
   "cell_type": "code",
   "execution_count": 3,
   "metadata": {},
   "outputs": [],
   "source": [
    "led_instance = gpio.ip_dict[\"plLED\"]\n",
    "leds = AxiGPIO(led_instance).channel1"
   ]
  },
  {
   "cell_type": "code",
   "execution_count": 7,
   "metadata": {},
   "outputs": [],
   "source": [
    "leds[0:4].write(0b1110)  # first led enlightened(near eth port)"
   ]
  },
  {
   "cell_type": "code",
   "execution_count": 9,
   "metadata": {},
   "outputs": [],
   "source": [
    "leds[0:4].write(0b0111)  # last led enlightened"
   ]
  },
  {
   "cell_type": "code",
   "execution_count": null,
   "metadata": {},
   "outputs": [],
   "source": [
    "# running 4 led\n",
    "\n",
    "i = 0\n",
    "while i < 100 :\n",
    "    j = i % 8\n",
    "    if j < 4:\n",
    "        value = 0b1111 >> j  # This shifts the bits to the right\n",
    "    else:\n",
    "        value = 0b1111 >> (7 - j) # This reverses the pattern after 0000\n",
    "    leds[0:4].write(value) \n",
    "    time.sleep(0.125)\n",
    "    i += 1"
   ]
  },
  {
   "cell_type": "code",
   "execution_count": 12,
   "metadata": {},
   "outputs": [],
   "source": [
    "leds[0:4].off()  # turn on all leds"
   ]
  },
  {
   "cell_type": "code",
   "execution_count": 13,
   "metadata": {},
   "outputs": [],
   "source": [
    "leds[0:4].on()  # shut down all leds"
   ]
  },
  {
   "cell_type": "markdown",
   "metadata": {},
   "source": [
    "<br><br><br><br>\n",
    "### 4. Playing with GPIO in Port 0 - 9\n",
    "- Using Xilinx AXI GPIO \n",
    "    - ip block `\"plMiner0\"` - `\"plMiner9\"`\n",
    "<br><br>\n",
    "<img src=\"resource/Antminer S9 Pin Mapping.png\" width=\"1000px\">"
   ]
  },
  {
   "cell_type": "code",
   "execution_count": 15,
   "metadata": {},
   "outputs": [],
   "source": [
    "miner_instance = gpio.ip_dict[\"plMiner0\"]\n",
    "miner0 = AxiGPIO(miner_instance).channel1"
   ]
  },
  {
   "cell_type": "markdown",
   "metadata": {},
   "source": [
    "- `miner0[0:4].write()` will `write` digital state into `pin 3`, `pin 2`, `pin 1`, `pin 0` on `\"plMiner0\"`\n",
    "- `miner0[0].write()` will `write` digital state into `pin 3` on `\"plMiner0\"`\n",
    "- `miner0[1].write()` will `write` digital state into `pin 2` on `\"plMiner0\"`\n",
    "- `miner0[2].write()` will `write` digital state into `pin 1` on `\"plMiner0\"`\n",
    "- `miner0[3].write()` will `write` digital state into `pin 0` on `\"plMiner0\"`"
   ]
  },
  {
   "cell_type": "code",
   "execution_count": 23,
   "metadata": {},
   "outputs": [],
   "source": [
    "miner0[0:4].write(0b1111) # turn all miner0 output to HIGH"
   ]
  },
  {
   "cell_type": "code",
   "execution_count": 28,
   "metadata": {},
   "outputs": [],
   "source": [
    "miner0[0:4].write(0b0000) # turn all miner0 output to LOW"
   ]
  },
  {
   "cell_type": "markdown",
   "metadata": {},
   "source": [
    "<br><br><br><br>\n",
    "### 5. Playing with 7 Segment\n",
    "- Wiring diagram <br>\n",
    "<img src=\"resource/7Segment Wiring.png\" width=\"700px\">"
   ]
  },
  {
   "cell_type": "code",
   "execution_count": 24,
   "metadata": {},
   "outputs": [],
   "source": [
    "gpio_7segment_a_instant = gpio.ip_dict[\"plMiner1\"]\n",
    "gpio_7segment_a = AxiGPIO(gpio_7segment_a_instant).channel1\n",
    "\n",
    "gpio_7segment_b_instant = gpio.ip_dict[\"plMiner2\"]\n",
    "gpio_7segment_b = AxiGPIO(gpio_7segment_b_instant).channel1"
   ]
  },
  {
   "cell_type": "code",
   "execution_count": 25,
   "metadata": {},
   "outputs": [],
   "source": [
    "# turn all 7 segment element to ON\n",
    "gpio_7segment_a[0:4].write(0b1111) # d c b a\n",
    "gpio_7segment_b[0:4].write(0b1111) # dp h g f"
   ]
  },
  {
   "cell_type": "code",
   "execution_count": null,
   "metadata": {},
   "outputs": [],
   "source": [
    "# 7 segmnet counting up and down\n",
    "\n",
    "seven_segment_config = {\n",
    "    0: (0b1111, 0b0011),  # Display '0'\n",
    "    1: (0b0110, 0b0000),  # Display '1'\n",
    "    2: (0b1011, 0b0101),  # Display '2'\n",
    "    3: (0b1111, 0b0100),  # Display '3'\n",
    "    4: (0b0110, 0b0110),  # Display '4'\n",
    "    5: (0b1101, 0b0110),  # Display '5'\n",
    "    6: (0b1101, 0b0111),  # Display '6'\n",
    "    7: (0b0111, 0b0000),  # Display '7'\n",
    "    8: (0b1111, 0b0111),  # Display '8'\n",
    "    9: (0b1111, 0b0110),  # Display '9'\n",
    "}\n",
    "\n",
    "iterator = None\n",
    "for j in range(10000) :\n",
    "    iterator = range(9, -1, -1) if j % 2 else range(1, 9)\n",
    "    \n",
    "    for i in iterator :\n",
    "        value = seven_segment_config[i]\n",
    "        gpio_7segment_a[0:4].write(value[0])\n",
    "        gpio_7segment_b[0:4].write(value[1])\n",
    "\n",
    "        time.sleep(0.25)"
   ]
  },
  {
   "cell_type": "code",
   "execution_count": 27,
   "metadata": {},
   "outputs": [],
   "source": [
    "# turn all 7 segment element to OFF\n",
    "gpio_7segment_a[0:4].write(0b0000) \n",
    "gpio_7segment_b[0:4].write(0b0000) "
   ]
  },
  {
   "cell_type": "markdown",
   "metadata": {},
   "source": [
    "<br><br><br><br>\n",
    "### 6. Playing with 7 Segment"
   ]
  }
 ],
 "metadata": {
  "kernelspec": {
   "display_name": "Python 3",
   "language": "python",
   "name": "python3"
  },
  "language_info": {
   "codemirror_mode": {
    "name": "ipython",
    "version": 3
   },
   "file_extension": ".py",
   "mimetype": "text/x-python",
   "name": "python",
   "nbconvert_exporter": "python",
   "pygments_lexer": "ipython3",
   "version": "3.6.5"
  }
 },
 "nbformat": 4,
 "nbformat_minor": 2
}
