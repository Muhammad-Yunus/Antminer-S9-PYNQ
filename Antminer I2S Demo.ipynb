{
 "cells": [
  {
   "cell_type": "markdown",
   "metadata": {},
   "source": [
    "# AXI I2S Transmitter\n",
    "- Upload `Overlay/antminerS9I2S` into Antminer S9 via SFTP into folder `/home/xilinx/pynq/overlays/`\n",
    "- Tutorial Creating AXI I2S Overlay : https://github.com/Kampi/ZYBO/tree/master/projects/DigitalAudio<br><br>\n",
    "<img src=\"resource/I2S DAC Wiring.jpg\" width=\"700px\">"
   ]
  },
  {
   "cell_type": "code",
   "execution_count": 41,
   "metadata": {},
   "outputs": [],
   "source": [
    "from pynq import Overlay, MMIO\n",
    "import numpy as np\n",
    "import time"
   ]
  },
  {
   "cell_type": "code",
   "execution_count": 42,
   "metadata": {},
   "outputs": [],
   "source": [
    "overlay = Overlay('antminerS9I2S.bit')"
   ]
  },
  {
   "cell_type": "code",
   "execution_count": null,
   "metadata": {},
   "outputs": [],
   "source": [
    "overlay?"
   ]
  },
  {
   "cell_type": "code",
   "execution_count": 28,
   "metadata": {},
   "outputs": [],
   "source": [
    "fifo = MMIO(overlay.ip_dict['FIFO']['phys_addr'], 0x10000)\n",
    "clk_wizard = MMIO(overlay.ip_dict['ClockingWizard']['phys_addr'], 0x10000)"
   ]
  },
  {
   "cell_type": "code",
   "execution_count": 29,
   "metadata": {},
   "outputs": [],
   "source": [
    "# AudioPlayer Configuration\n",
    "class AudioPlayer:\n",
    "    def __init__(self, fifo, clk_wizard):\n",
    "        self.fifo = fifo\n",
    "        self.clk_wizard = clk_wizard\n",
    "        self.test_signal_cycles = 0\n",
    "        self.use_test_signal = False\n",
    "        self.busy = False\n",
    "        self.fifo_buffer_size = 256  # Adjust based on design\n",
    "\n",
    "    def send_test_signal(self, cycles):\n",
    "        \"\"\"Send a test sine wave signal.\"\"\"\n",
    "        self.test_signal_cycles = cycles\n",
    "        self.use_test_signal = True\n",
    "        self.busy = True\n",
    "\n",
    "        test_signal = self.generate_test_signal()\n",
    "        self.write_fifo(test_signal)\n",
    "        print(\"[INFO] Test signal sent!\")\n",
    "\n",
    "    def write_fifo(self, data):\n",
    "        \"\"\"Write data to FIFO.\"\"\"\n",
    "        for word in data:\n",
    "            self.fifo.write(0x00, int(word))  # Assuming 0x0 is FIFO data register\n",
    "        print(\"[INFO] FIFO write complete!\")\n",
    "\n",
    "    def generate_test_signal(self):\n",
    "        \"\"\"Generate a sine wave as a test signal.\"\"\"\n",
    "        t = np.linspace(0, 2 * np.pi, self.fifo_buffer_size)\n",
    "        sine_wave = (np.sin(t) * 0x7FFF).astype(np.int16)\n",
    "        return [(sample << 16) | sample for sample in sine_wave]  # Stereo signal\n",
    "\n",
    "    def change_freq(self, sample_rate):\n",
    "        \"\"\"Configure the Clocking Wizard for a specific sample rate.\"\"\"\n",
    "        if sample_rate == 44100:\n",
    "            clk_settings = {\"DIVCLK_DIVIDE\": 5, \"CLKFBOUT_MULT\": 42, \"DIVIDE\": 93}\n",
    "        elif sample_rate == 48000:\n",
    "            clk_settings = {\"DIVCLK_DIVIDE\": 3, \"CLKFBOUT_MULT\": 23, \"DIVIDE\": 78}\n",
    "        elif sample_rate == 96000:\n",
    "            clk_settings = {\"DIVCLK_DIVIDE\": 3, \"CLKFBOUT_MULT\": 23, \"DIVIDE\": 39}\n",
    "        else:\n",
    "            raise ValueError(\"Unsupported sample rate!\")\n",
    "\n",
    "        # Update Clocking Wizard registers (hypothetical example)\n",
    "        self.clk_wizard.write(0x0, clk_settings[\"DIVCLK_DIVIDE\"])  # Register offsets are placeholders\n",
    "        self.clk_wizard.write(0x4, clk_settings[\"CLKFBOUT_MULT\"])\n",
    "        self.clk_wizard.write(0x8, clk_settings[\"DIVIDE\"])\n",
    "\n",
    "        print(f\"[INFO] Clocking Wizard updated for {sample_rate} Hz.\")\n",
    "\n",
    "    def is_busy(self):\n",
    "        \"\"\"Check if the player is busy.\"\"\"\n",
    "        return self.busy\n"
   ]
  },
  {
   "cell_type": "code",
   "execution_count": 30,
   "metadata": {},
   "outputs": [],
   "source": [
    "# Initialize AudioPlayer\n",
    "player = AudioPlayer(fifo, clk_wizard)"
   ]
  },
  {
   "cell_type": "code",
   "execution_count": null,
   "metadata": {},
   "outputs": [],
   "source": [
    "time.sleep(3)\n",
    "\n",
    "#player.change_freq(48000)  # Set sample rate\n",
    "for __ in range(10):\n",
    "    player.send_test_signal(40000)  # Send test signal\n",
    "# while player.is_busy():\n",
    "#     pass  # Wait for the operation to complete"
   ]
  },
  {
   "cell_type": "markdown",
   "metadata": {},
   "source": [
    "_________"
   ]
  },
  {
   "cell_type": "code",
   "execution_count": 57,
   "metadata": {},
   "outputs": [],
   "source": [
    "from pynq import Overlay, MMIO\n",
    "import sys\n",
    "import math\n",
    "import numpy as np\n",
    "import time\n",
    "\n",
    "# Load the bitstream\n",
    "overlay = Overlay('antminerS9I2S.bit')\n",
    "\n",
    "# Access the AXI FIFO MM IP blocks\n",
    "fifo_i2s = overlay.axi_fifo_mm_s_1\n",
    "\n",
    "# Define constants\n",
    "PERIODSAMPLES = 128\n",
    "AMP = 16384\n",
    "\n",
    "class ADAU1761Config:\n",
    "    def __init__(self, fifo_i2s):\n",
    "        self.fifo_i2s = fifo_i2s\n",
    "        self.chip_addr = 0\n",
    "        self.word_size = 4\n",
    "\n",
    "def adau1761_init(codec):\n",
    "    # Reset the FIFO\n",
    "    print(\"Resetting FIFO...\")\n",
    "    fifo_i2s.register_map.TDFR = 0xA5A5  # Reset FIFO\n",
    "    time.sleep(0.01)  # Allow reset to complete\n",
    "\n",
    "    # Clear FIFO status\n",
    "    fifo_i2s.register_map.TDFR = 0x0000  # Clear reset\n",
    "    fifo_i2s.register_map.IER = 0xFFFFFFFF  # Enable interrupts\n",
    "\n",
    "    # Check FIFO status\n",
    "    status = int(fifo_i2s.register_map.TDFV)  # Force conversion to integer\n",
    "    print(f\"FIFO status: 0x{status:X}\")\n",
    "    if status == 0:\n",
    "        print(\"FIFO not empty. Initialization failed.\")\n",
    "        return -5\n",
    "\n",
    "    print(\"FIFO initialized successfully.\")\n",
    "    return 0\n",
    "\n",
    "def initialize_fifo():\n",
    "    try:\n",
    "        # Perform any necessary resets or status checks\n",
    "        fifo_i2s.register_map.SRR = 0xA5  # Reset FIFO\n",
    "        print(\"FIFO reset command sent.\")\n",
    "\n",
    "        # Clear any pending interrupts\n",
    "        fifo_i2s.register_map.TDFR = 0x1  # Transmit Reset\n",
    "        fifo_i2s.register_map.RDFR = 0x1  # Receive Reset\n",
    "        fifo_i2s.register_map.IER = 0x0  # Disable all interrupts\n",
    "        print(\"FIFO interrupts cleared.\")\n",
    "\n",
    "        # Check FIFO status\n",
    "        status = fifo_i2s.register_map.TDFV  # Transmit Data FIFO Vacancy\n",
    "        print(f\"FIFO status after initialization: 0x{status:X}\")\n",
    "\n",
    "        return 0  # Success\n",
    "\n",
    "    except Exception as e:\n",
    "        print(f\"FIFO initialization failed: {e}\")\n",
    "        return -4  # Error code\n",
    "\n",
    "\n",
    "def adau1761_i2s_write(codec, left, right):\n",
    "\n",
    "    # Wait until there is space in the transmit FIFO\n",
    "    dot_count = 0\n",
    "    while int(fifo_i2s.register_map.TDFR) != 0:\n",
    "        dots = '.' * dot_count\n",
    "        sys.stdout.write(f\"I2S FIFO full. Waiting{dots:<3}\\r\")  # Pad with spaces to clear extra dots\n",
    "        sys.stdout.flush()\n",
    "\n",
    "        dot_count = (dot_count + 1) % 4\n",
    "        time.sleep(0.5)  # Sleep to avoid busy-waiting\n",
    "    \n",
    "    # Combine left and right data and send to FIFO\n",
    "    word = (left << 16) | right\n",
    "    fifo_i2s.write(0x00, int(word))\n",
    "    fifo_i2s.register_map.TDFR = 2  # Set the length of the word\n"
   ]
  },
  {
   "cell_type": "code",
   "execution_count": 58,
   "metadata": {},
   "outputs": [
    {
     "name": "stdout",
     "output_type": "stream",
     "text": [
      "Initializing ADAU1761 ...\n",
      "Resetting FIFO...\n",
      "FIFO status: 0x1FC\n",
      "FIFO initialized successfully.\n",
      "OK\n",
      "\n",
      "\n",
      "Sending audio data...\n"
     ]
    },
    {
     "ename": "AttributeError",
     "evalue": "'RegisterTDFV' object has no attribute 'read'",
     "output_type": "error",
     "traceback": [
      "\u001b[0;31m---------------------------------------------------------------------------\u001b[0m",
      "\u001b[0;31mAttributeError\u001b[0m                            Traceback (most recent call last)",
      "\u001b[0;32m<ipython-input-58-38af8305e408>\u001b[0m in \u001b[0;36m<module>\u001b[0;34m()\u001b[0m\n\u001b[1;32m     21\u001b[0m     \u001b[0;32mwhile\u001b[0m \u001b[0;32mTrue\u001b[0m\u001b[0;34m:\u001b[0m\u001b[0;34m\u001b[0m\u001b[0m\n\u001b[1;32m     22\u001b[0m         \u001b[0;32mfor\u001b[0m \u001b[0mi\u001b[0m \u001b[0;32min\u001b[0m \u001b[0mrange\u001b[0m\u001b[0;34m(\u001b[0m\u001b[0mPERIODSAMPLES\u001b[0m\u001b[0;34m)\u001b[0m\u001b[0;34m:\u001b[0m\u001b[0;34m\u001b[0m\u001b[0m\n\u001b[0;32m---> 23\u001b[0;31m             \u001b[0madau1761_i2s_write\u001b[0m\u001b[0;34m(\u001b[0m\u001b[0mcodec\u001b[0m\u001b[0;34m,\u001b[0m \u001b[0mleft\u001b[0m\u001b[0;34m[\u001b[0m\u001b[0mi\u001b[0m\u001b[0;34m]\u001b[0m\u001b[0;34m,\u001b[0m \u001b[0mright\u001b[0m\u001b[0;34m[\u001b[0m\u001b[0mi\u001b[0m\u001b[0;34m]\u001b[0m\u001b[0;34m)\u001b[0m\u001b[0;34m\u001b[0m\u001b[0m\n\u001b[0m\u001b[1;32m     24\u001b[0m \u001b[0;34m\u001b[0m\u001b[0m\n\u001b[1;32m     25\u001b[0m \u001b[0;32mexcept\u001b[0m \u001b[0mKeyboardInterrupt\u001b[0m\u001b[0;34m:\u001b[0m\u001b[0;34m\u001b[0m\u001b[0m\n",
      "\u001b[0;32m<ipython-input-57-380e90d27c81>\u001b[0m in \u001b[0;36madau1761_i2s_write\u001b[0;34m(codec, left, right)\u001b[0m\n\u001b[1;32m     45\u001b[0m     \u001b[0;31m# Wait until there is space in the transmit FIFO\u001b[0m\u001b[0;34m\u001b[0m\u001b[0;34m\u001b[0m\u001b[0m\n\u001b[1;32m     46\u001b[0m     \u001b[0mdot_count\u001b[0m \u001b[0;34m=\u001b[0m \u001b[0;36m0\u001b[0m\u001b[0;34m\u001b[0m\u001b[0m\n\u001b[0;32m---> 47\u001b[0;31m     \u001b[0;32mwhile\u001b[0m \u001b[0;32mnot\u001b[0m \u001b[0mfifo_i2s\u001b[0m\u001b[0;34m.\u001b[0m\u001b[0mregister_map\u001b[0m\u001b[0;34m.\u001b[0m\u001b[0mTDFV\u001b[0m\u001b[0;34m.\u001b[0m\u001b[0mread\u001b[0m\u001b[0;34m(\u001b[0m\u001b[0;34m)\u001b[0m\u001b[0;34m:\u001b[0m\u001b[0;34m\u001b[0m\u001b[0m\n\u001b[0m\u001b[1;32m     48\u001b[0m         \u001b[0mdots\u001b[0m \u001b[0;34m=\u001b[0m \u001b[0;34m'.'\u001b[0m \u001b[0;34m*\u001b[0m \u001b[0mdot_count\u001b[0m\u001b[0;34m\u001b[0m\u001b[0m\n\u001b[1;32m     49\u001b[0m         \u001b[0msys\u001b[0m\u001b[0;34m.\u001b[0m\u001b[0mstdout\u001b[0m\u001b[0;34m.\u001b[0m\u001b[0mwrite\u001b[0m\u001b[0;34m(\u001b[0m\u001b[0;34mf\"I2S FIFO full. Waiting{dots:<3}\\r\"\u001b[0m\u001b[0;34m)\u001b[0m  \u001b[0;31m# Pad with spaces to clear extra dots\u001b[0m\u001b[0;34m\u001b[0m\u001b[0m\n",
      "\u001b[0;31mAttributeError\u001b[0m: 'RegisterTDFV' object has no attribute 'read'"
     ]
    }
   ],
   "source": [
    "try :\n",
    "    # Initialize codec\n",
    "    codec = ADAU1761Config(fifo_i2s)\n",
    "    print(\"Initializing ADAU1761 ...\")\n",
    "    status = adau1761_init(codec)\n",
    "    if status == 0:\n",
    "        print(\"OK\\n\\n\")\n",
    "    else:\n",
    "        print(\"FAILED\\n\\n\")\n",
    "\n",
    "    # Prepare sine wave data for left and right channels\n",
    "    left = np.zeros(PERIODSAMPLES, dtype=np.int16)\n",
    "    right = np.zeros(PERIODSAMPLES, dtype=np.int16)\n",
    "\n",
    "    for i in range(PERIODSAMPLES):\n",
    "        left[i] = int(np.cos(i / PERIODSAMPLES * 2 * np.pi) * AMP)\n",
    "        right[i] = int(np.sin(i / PERIODSAMPLES * 2 * np.pi) * AMP)\n",
    "\n",
    "    # Loop to send audio data continuously\n",
    "    print(\"Sending audio data...\")\n",
    "    while True:\n",
    "        for i in range(PERIODSAMPLES):\n",
    "            adau1761_i2s_write(codec, left[i], right[i])\n",
    "\n",
    "except KeyboardInterrupt:\n",
    "    print(\"\\n\\nGoodbye\")"
   ]
  }
 ],
 "metadata": {
  "kernelspec": {
   "display_name": "Python 3",
   "language": "python",
   "name": "python3"
  },
  "language_info": {
   "codemirror_mode": {
    "name": "ipython",
    "version": 3
   },
   "file_extension": ".py",
   "mimetype": "text/x-python",
   "name": "python",
   "nbconvert_exporter": "python",
   "pygments_lexer": "ipython3",
   "version": "3.6.5"
  }
 },
 "nbformat": 4,
 "nbformat_minor": 2
}
