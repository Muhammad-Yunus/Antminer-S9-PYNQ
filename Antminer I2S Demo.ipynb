{
 "cells": [
  {
   "cell_type": "code",
   "execution_count": 6,
   "metadata": {},
   "outputs": [],
   "source": [
    "from pynq import Overlay, MMIO\n",
    "import time"
   ]
  },
  {
   "cell_type": "code",
   "execution_count": 32,
   "metadata": {},
   "outputs": [],
   "source": [
    "overlay = Overlay('antminerS9I2S.bit')"
   ]
  },
  {
   "cell_type": "code",
   "execution_count": null,
   "metadata": {},
   "outputs": [],
   "source": [
    "overlay?"
   ]
  },
  {
   "cell_type": "code",
   "execution_count": 34,
   "metadata": {},
   "outputs": [],
   "source": [
    "fifo_mm_instance = overlay.ip_dict[\"axi_fifo_mm_s_0\"]"
   ]
  },
  {
   "cell_type": "code",
   "execution_count": 7,
   "metadata": {},
   "outputs": [],
   "source": [
    "# Replace with your actual base address and address range\n",
    "base_address = 0x43C00000\n",
    "address_range = 0x10000 #64kb\n",
    "\n",
    "mmio = MMIO(base_address, address_range)"
   ]
  },
  {
   "cell_type": "code",
   "execution_count": 1,
   "metadata": {},
   "outputs": [
    {
     "data": {
      "application/javascript": "\nrequire(['notebook/js/codecell'], function(codecell) {\n  codecell.CodeCell.options_default.highlight_modes[\n      'magic_text/x-csrc'] = {'reg':[/^%%microblaze/]};\n  Jupyter.notebook.events.one('kernel_ready.Kernel', function(){\n      Jupyter.notebook.get_cells().map(function(cell){\n          if (cell.cell_type == 'code'){ cell.auto_highlight(); } }) ;\n  });\n});\n"
     },
     "metadata": {},
     "output_type": "display_data"
    }
   ],
   "source": [
    "from pynq import MMIO\n",
    "import time\n",
    "\n",
    "# Base address and address range for the AXI interface\n",
    "base_address = 0x43C00000  # Replace with your actual base address\n",
    "address_range = 0x10000    # Replace with your actual address range (64KB)\n",
    "\n",
    "# Create MMIO object to access the memory-mapped registers\n",
    "mmio = MMIO(base_address, address_range)\n",
    "\n",
    "# Define some register offsets (replace with actual addresses)\n",
    "I2S_CONTROL_REG = 0x00  # Hypothetical offset for I2S control register\n",
    "I2S_STATUS_REG = 0x04   # Hypothetical offset for I2S status register\n",
    "I2S_FIFO_REG = 0x08     # Hypothetical offset for I2S FIFO register\n",
    "\n",
    "# Function to configure I2S DAC\n",
    "def configure_i2s():\n",
    "    control_value = 0x01  # Example value to configure I2S (e.g., enable DAC)\n",
    "    mmio.write(I2S_CONTROL_REG, control_value)  # Write to I2S control register\n",
    "    print(f\"Written {control_value} to I2S control register\")\n",
    "\n",
    "# Function to read the I2S status register\n",
    "def read_i2s_status():\n",
    "    status = mmio.read(I2S_STATUS_REG)  # Read from I2S status register\n",
    "    print(f\"I2S Status Register: {status}\")\n",
    "    return status\n",
    "\n",
    "# Function to write audio data to I2S FIFO\n",
    "def write_audio_data(data):\n",
    "    mmio.write(I2S_FIFO_REG, data)  # Write audio data to I2S FIFO\n",
    "    print(f\"Written audio data {data} to I2S FIFO\")\n",
    "\n",
    "# Function to read audio data from I2S FIFO\n",
    "def read_audio_data():\n",
    "    data = mmio.read(I2S_FIFO_REG)  # Read audio data from I2S FIFO\n",
    "    print(f\"Read audio data: {data}\")\n",
    "    return data\n",
    "\n",
    "\n"
   ]
  },
  {
   "cell_type": "code",
   "execution_count": 2,
   "metadata": {},
   "outputs": [
    {
     "name": "stdout",
     "output_type": "stream",
     "text": [
      "Configuring I2S DAC...\n",
      "Written 1 to I2S control register\n"
     ]
    }
   ],
   "source": [
    "time.sleep(4)\n",
    "print(\"Configuring I2S DAC...\")\n",
    "configure_i2s()\n",
    "time.sleep(1)"
   ]
  },
  {
   "cell_type": "code",
   "execution_count": 3,
   "metadata": {},
   "outputs": [
    {
     "name": "stdout",
     "output_type": "stream",
     "text": [
      "Reading I2S status...\n",
      "I2S Status Register: 0\n"
     ]
    },
    {
     "data": {
      "text/plain": [
       "0"
      ]
     },
     "execution_count": 3,
     "metadata": {},
     "output_type": "execute_result"
    }
   ],
   "source": [
    "time.sleep(4)\n",
    "print(\"Reading I2S status...\")\n",
    "read_i2s_status()"
   ]
  },
  {
   "cell_type": "code",
   "execution_count": 4,
   "metadata": {},
   "outputs": [
    {
     "name": "stdout",
     "output_type": "stream",
     "text": [
      "Written audio data 4660 to I2S FIFO\n"
     ]
    }
   ],
   "source": [
    "time.sleep(4)\n",
    "\n",
    "# Example: writing and reading audio data\n",
    "audio_sample = 0x1234  # Replace with actual audio data\n",
    "write_audio_data(audio_sample)"
   ]
  },
  {
   "cell_type": "code",
   "execution_count": 5,
   "metadata": {},
   "outputs": [
    {
     "name": "stdout",
     "output_type": "stream",
     "text": [
      "Read audio data: 0\n"
     ]
    },
    {
     "data": {
      "text/plain": [
       "0"
      ]
     },
     "execution_count": 5,
     "metadata": {},
     "output_type": "execute_result"
    }
   ],
   "source": [
    "read_audio_data()"
   ]
  }
 ],
 "metadata": {
  "kernelspec": {
   "display_name": "Python 3",
   "language": "python",
   "name": "python3"
  },
  "language_info": {
   "codemirror_mode": {
    "name": "ipython",
    "version": 3
   },
   "file_extension": ".py",
   "mimetype": "text/x-python",
   "name": "python",
   "nbconvert_exporter": "python",
   "pygments_lexer": "ipython3",
   "version": "3.6.5"
  }
 },
 "nbformat": 4,
 "nbformat_minor": 2
}
