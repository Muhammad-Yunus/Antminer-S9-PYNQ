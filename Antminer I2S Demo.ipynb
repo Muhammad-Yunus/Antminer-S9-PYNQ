{
 "cells": [
  {
   "cell_type": "markdown",
   "metadata": {},
   "source": [
    "# AXI I2S\n",
    "- Upload `Overlay/antminerS9I2S` into Antminer S9 via SFTP into folder `/home/xilinx/pynq/overlays/`\n",
    "- Tutorial Creating AXI I2S Overlay : https://www.harald-rosenfeldt.de/2017/12/30/zynq-create-an-i2s-transmitter-to-send-audio-signals/"
   ]
  },
  {
   "cell_type": "code",
   "execution_count": null,
   "metadata": {},
   "outputs": [],
   "source": [
    "from pynq import Overlay, MMIO\n",
    "import time"
   ]
  },
  {
   "cell_type": "code",
   "execution_count": 2,
   "metadata": {},
   "outputs": [],
   "source": [
    "overlay = Overlay('antminerS9I2S.bit')"
   ]
  },
  {
   "cell_type": "code",
   "execution_count": null,
   "metadata": {},
   "outputs": [],
   "source": [
    "overlay?"
   ]
  },
  {
   "cell_type": "code",
   "execution_count": 3,
   "metadata": {},
   "outputs": [],
   "source": [
    "fifo_mm_instance = overlay.ip_dict[\"axi_fifo_mm_s_0\"]"
   ]
  },
  {
   "cell_type": "code",
   "execution_count": 14,
   "metadata": {},
   "outputs": [],
   "source": [
    "# Base address and address range for the AXI interface\n",
    "base_address = 0x43C00000  # Replace with your actual base address\n",
    "address_range = 0x10000    # Replace with your actual address range (64KB)\n",
    "\n",
    "# Create MMIO object to access the memory-mapped registers\n",
    "mmio = MMIO(base_address, address_range)\n",
    "\n",
    "# Define some register offsets (replace with actual addresses)\n",
    "I2S_CONTROL_REG = 0x00  # Hypothetical offset for I2S control register\n",
    "I2S_STATUS_REG = 0x04   # Hypothetical offset for I2S status register\n",
    "I2S_FIFO_REG = 0x08     # Hypothetical offset for I2S FIFO register"
   ]
  },
  {
   "cell_type": "code",
   "execution_count": 15,
   "metadata": {},
   "outputs": [],
   "source": [
    "# Function to configure I2S DAC\n",
    "def configure_i2s():\n",
    "    control_value = 0x01  # Example value to configure I2S (e.g., enable DAC)\n",
    "    mmio.write(I2S_CONTROL_REG, control_value)  # Write to I2S control register\n",
    "    print(f\"Written {control_value} to I2S control register\")\n",
    "\n",
    "# Function to read the I2S status register\n",
    "def read_i2s_status():\n",
    "    status = mmio.read(I2S_STATUS_REG)  # Read from I2S status register\n",
    "    print(f\"I2S Status Register: {status}\")\n",
    "    return status\n",
    "\n",
    "# Function to write audio data to I2S FIFO\n",
    "def write_audio_data(data):\n",
    "    mmio.write(I2S_FIFO_REG, data)  # Write audio data to I2S FIFO\n",
    "    print(f\"Written audio data {data} to I2S FIFO\")\n",
    "\n",
    "# Function to read audio data from I2S FIFO\n",
    "def read_audio_data():\n",
    "    data = mmio.read(I2S_FIFO_REG)  # Read audio data from I2S FIFO\n",
    "    print(f\"Read audio data: {data}\")\n",
    "    return data"
   ]
  },
  {
   "cell_type": "code",
   "execution_count": null,
   "metadata": {},
   "outputs": [],
   "source": [
    "time.sleep(4)\n",
    "print(\"Configuring I2S DAC...\")\n",
    "configure_i2s()\n",
    "time.sleep(1)"
   ]
  },
  {
   "cell_type": "code",
   "execution_count": null,
   "metadata": {},
   "outputs": [],
   "source": [
    "time.sleep(4)\n",
    "print(\"Reading I2S status...\")\n",
    "read_i2s_status()"
   ]
  },
  {
   "cell_type": "code",
   "execution_count": null,
   "metadata": {},
   "outputs": [],
   "source": [
    "time.sleep(4)\n",
    "\n",
    "# Example: writing and reading audio data\n",
    "audio_sample = 0x1234  # Replace with actual audio data\n",
    "write_audio_data(audio_sample)"
   ]
  },
  {
   "cell_type": "code",
   "execution_count": null,
   "metadata": {},
   "outputs": [],
   "source": [
    "read_audio_data()"
   ]
  }
 ],
 "metadata": {
  "kernelspec": {
   "display_name": "Python 3",
   "language": "python",
   "name": "python3"
  },
  "language_info": {
   "codemirror_mode": {
    "name": "ipython",
    "version": 3
   },
   "file_extension": ".py",
   "mimetype": "text/x-python",
   "name": "python",
   "nbconvert_exporter": "python",
   "pygments_lexer": "ipython3",
   "version": "3.6.5"
  }
 },
 "nbformat": 4,
 "nbformat_minor": 2
}
