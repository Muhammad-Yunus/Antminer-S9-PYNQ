{
 "cells": [
  {
   "cell_type": "markdown",
   "metadata": {
    "vscode": {
     "languageId": "plaintext"
    }
   },
   "source": [
    "# AXI I2C Communication"
   ]
  },
  {
   "cell_type": "code",
   "execution_count": null,
   "metadata": {},
   "outputs": [],
   "source": [
    "from pynq import Overlay\n",
    "from pynq.lib.iic import AxiIIC\n",
    "import time"
   ]
  },
  {
   "cell_type": "code",
   "execution_count": 2,
   "metadata": {},
   "outputs": [],
   "source": [
    "overlay = Overlay('antminerS9I2C.bit')"
   ]
  },
  {
   "cell_type": "code",
   "execution_count": null,
   "metadata": {},
   "outputs": [],
   "source": [
    "overlay?"
   ]
  },
  {
   "cell_type": "code",
   "execution_count": 3,
   "metadata": {},
   "outputs": [],
   "source": [
    "i2c_instance = overlay.ip_dict[\"axi_iic_0\"]\n",
    "i2c = AxiIIC(i2c_instance)"
   ]
  },
  {
   "cell_type": "code",
   "execution_count": null,
   "metadata": {},
   "outputs": [],
   "source": [
    "hex(i2c_instance[\"phys_addr\"])"
   ]
  },
  {
   "cell_type": "code",
   "execution_count": null,
   "metadata": {},
   "outputs": [],
   "source": [
    "hex(i2c_instance[\"addr_range\"])"
   ]
  },
  {
   "cell_type": "code",
   "execution_count": null,
   "metadata": {},
   "outputs": [],
   "source": [
    "i2c?"
   ]
  },
  {
   "cell_type": "code",
   "execution_count": null,
   "metadata": {},
   "outputs": [],
   "source": [
    "help(i2c.send)"
   ]
  },
  {
   "cell_type": "code",
   "execution_count": null,
   "metadata": {},
   "outputs": [],
   "source": [
    "help(i2c.receive)"
   ]
  },
  {
   "cell_type": "code",
   "execution_count": null,
   "metadata": {},
   "outputs": [],
   "source": [
    "help(i2c.wait)"
   ]
  },
  {
   "cell_type": "code",
   "execution_count": null,
   "metadata": {},
   "outputs": [],
   "source": [
    "buf = bytes(1)\n",
    "i2c.send(0x27, buf, 1, option=0) #0x27 is the I2C address of the LCD 16x2 I2C module"
   ]
  },
  {
   "cell_type": "code",
   "execution_count": 4,
   "metadata": {},
   "outputs": [],
   "source": [
    "# Scan I2C bus\n",
    "class I2C:\n",
    "    def __init__(self, overlay_name='antminerS9I2C.bit', ip='axi_iic_0'):\n",
    "        \n",
    "        self._overlay_name = overlay_name\n",
    "        self._ip = ip\n",
    "        self._overlay = Overlay(overlay_name)\n",
    "        self._i2c = AxiIIC(self._overlay.ip_dict[self._ip])\n",
    "\n",
    "    def scan(self):\n",
    "        devices = []\n",
    "        for address in range(0x08, 0x78):  # Valid I2C address range from 0x03 to 0x77\n",
    "            #print(\"Scanning address: 0x{:02X}\".format(address))\n",
    "            try:\n",
    "                # Attempt to communicate with the address\n",
    "                self._i2c.send(address, bytes(1), 1, 0) # Write an empty byte to address\n",
    "                devices.append(address)  # If successful, append the address\n",
    "            except:\n",
    "                # If no device responds (throws OSError), ignore and move to the next address\n",
    "                pass\n",
    "            #time.sleep(0.1)  # Delay to prevent I2C errors\n",
    "        return devices\n"
   ]
  },
  {
   "cell_type": "code",
   "execution_count": 51,
   "metadata": {},
   "outputs": [],
   "source": [
    "i2c_dev = I2C()"
   ]
  },
  {
   "cell_type": "code",
   "execution_count": 52,
   "metadata": {},
   "outputs": [
    {
     "name": "stdout",
     "output_type": "stream",
     "text": [
      "['0x3c']\n"
     ]
    }
   ],
   "source": [
    "address = i2c_dev.scan()\n",
    "print([hex(i) for i in address])"
   ]
  },
  {
   "cell_type": "markdown",
   "metadata": {},
   "source": [
    "<br><br>\n",
    "# Demo with I2C LCD 16x2 "
   ]
  },
  {
   "cell_type": "code",
   "execution_count": 42,
   "metadata": {},
   "outputs": [],
   "source": [
    "from pynq import Overlay\n",
    "from pynq.lib.iic import AxiIIC\n",
    "import time\n",
    "import cffi\n",
    "from pynq.overlays.i2c_lcd import LCD "
   ]
  },
  {
   "cell_type": "code",
   "execution_count": 43,
   "metadata": {},
   "outputs": [],
   "source": [
    "overlay = Overlay('antminerS9I2C.bit')\n",
    "i2c_instance = overlay.ip_dict[\"axi_iic_0\"]\n",
    "i2c = AxiIIC(i2c_instance)"
   ]
  },
  {
   "cell_type": "code",
   "execution_count": 3,
   "metadata": {},
   "outputs": [],
   "source": [
    "time.sleep(3)\n",
    "lcd = LCD(addr=0x27, cols=16, rows=2, i2c=i2c)\n",
    "\n",
    "lcd.begin()\n",
    "lcd.print(\"Hello World\")"
   ]
  },
  {
   "cell_type": "code",
   "execution_count": 44,
   "metadata": {},
   "outputs": [],
   "source": [
    "# Pure python implementation of MicroPython framebuf module.\n",
    "# This is intended for boards with limited flash memory and the inability to\n",
    "# use the native C version of the framebuf module.  This python module can be\n",
    "# added to the board's file system to provide a functionally identical framebuf\n",
    "# interface but at the expense of speed (this python version will be _much_\n",
    "# slower than the C version).\n",
    "# This is a direct port of the framebuf module C code to python:\n",
    "#   https://github.com/micropython/micropython/blob/master/extmod/modframebuf.c\n",
    "# Original file created by Damien P. George.\n",
    "# Python port below created by Tony DiCola.\n",
    "\n",
    "\n",
    "# Framebuf format constats:\n",
    "MVLSB     = 0  # Single bit displays (like SSD1306 OLED)\n",
    "RGB565    = 1  # 16-bit color displays\n",
    "GS4_HMSB  = 2  # Unimplemented!\n",
    "\n",
    "\n",
    "class MVLSBFormat:\n",
    "\n",
    "    def setpixel(self, fb, x, y, color):\n",
    "        index = (y >> 3) * fb.stride + x\n",
    "        offset = y & 0x07\n",
    "        fb.buf[index] = (fb.buf[index] & ~(0x01 << offset)) | ((color != 0) << offset)\n",
    "\n",
    "    def getpixel(self, fb, x, y):\n",
    "        index = (y >> 3) * fb.stride + x\n",
    "        offset = y & 0x07\n",
    "        return ((fb.buf[index] >> offset) & 0x01)\n",
    "\n",
    "    def fill_rect(self, fb, x, y, width, height, color):\n",
    "        while height > 0:\n",
    "            index = (y >> 3) * fb.stride + x\n",
    "            offset = y & 0x07\n",
    "            for ww in range(width):\n",
    "                fb.buf[index+ww] = (fb.buf[index+ww] & ~(0x01 << offset)) | ((color != 0) << offset)\n",
    "            y += 1\n",
    "            height -= 1\n",
    "\n",
    "\n",
    "class RGB565Format:\n",
    "\n",
    "    def setpixel(self, fb, x, y, color):\n",
    "        index = (x + y * fb.stride) * 2\n",
    "        fb.buf[index]   = (color >> 8) & 0xFF\n",
    "        fb.buf[index+1] = color & 0xFF\n",
    "\n",
    "    def getpixel(self, fb, x, y):\n",
    "        index = (x + y * fb.stride) * 2\n",
    "        return (fb.buf[index] << 8) | fb.buf[index+1]\n",
    "\n",
    "    def fill_rect(self, fb, x, y, width, height, color):\n",
    "        while height > 0:\n",
    "            for ww in range(width):\n",
    "                index = (ww + x + y * fb.stride) * 2\n",
    "                fb.buf[index]   = (color >> 8) & 0xFF\n",
    "                fb.buf[index+1] = color & 0xFF\n",
    "            y += 1\n",
    "            height -= 1\n",
    "\n",
    "\n",
    "class FrameBuffer:\n",
    "\n",
    "    def __init__(self, buf, width, height, buf_format=MVLSB, stride=None):\n",
    "        self.buf = buf\n",
    "        self.width = width\n",
    "        self.height = height\n",
    "        self.stride = stride\n",
    "        if self.stride is None:\n",
    "            self.stride = width\n",
    "        if buf_format == MVLSB:\n",
    "            self.format = MVLSBFormat()\n",
    "        elif buf_format == RGB565:\n",
    "            self.format = RGB565Format()\n",
    "        else:\n",
    "            raise ValueError('invalid format')\n",
    "\n",
    "    def fill(self, color):\n",
    "        self.format.fill_rect(self, 0, 0, self.width, self.height, color)\n",
    "\n",
    "    def fill_rect(self, x, y, width, height, color):\n",
    "        if width < 1 or height < 1 or (x+width) <= 0 or (y+height) <= 0 or y >= self.height or x >= self.width:\n",
    "            return\n",
    "        xend = min(self.width, x+width)\n",
    "        yend = min(self.height, y+height)\n",
    "        x = max(x, 0)\n",
    "        y = max(y, 0)\n",
    "        self.format.fill_rect(self, x, y, xend-x, yend-y, color)\n",
    "\n",
    "    def pixel(self, x, y, color=None):\n",
    "        if x < 0 or x >= self.width or y < 0 or y >= self.height:\n",
    "            return\n",
    "        if color is None:\n",
    "            return self.format.getpixel(self, x, y)\n",
    "        else:\n",
    "            self.format.setpixel(self, x, y, color)\n",
    "\n",
    "    def hline(self, x, y, width, color):\n",
    "        self.fill_rect(x, y, width, 1, color)\n",
    "\n",
    "    def vline(self, x, y, height, color):\n",
    "        self.fill_rect(x, y, 1, height, color)\n",
    "\n",
    "    def rect(self, x, y, width, height, color):\n",
    "        self.fill_rect(x, y, width, 1, color)\n",
    "        self.fill_rect(x, y+height, width, 1, color)\n",
    "        self.fill_rect(self, x, y, 1, height, color)\n",
    "        self.fill_rect(self, x+width, y, 1, height, color)\n",
    "\n",
    "    def line(self, x0, y0, x1, y1, color):\n",
    "        \"\"\"Bresenham's line algorithm\"\"\"\n",
    "        dx = abs(x1 - x0)\n",
    "        dy = abs(y1 - y0)\n",
    "        x, y = x0, y0\n",
    "        sx = -1 if x0 > x1 else 1\n",
    "        sy = -1 if y0 > y1 else 1\n",
    "        if dx > dy:\n",
    "            err = dx / 2.0\n",
    "            while x != x1:\n",
    "                self.pixel(x,y,color)\n",
    "                err -= dy\n",
    "                if err < 0:\n",
    "                    y += sy\n",
    "                    err += dx\n",
    "                x += sx\n",
    "        else:\n",
    "            err = dy / 2.0\n",
    "            while y != y1:\n",
    "                self.pixel(x,y,1)\n",
    "                err -= dx\n",
    "                if err < 0:\n",
    "                    x += sx\n",
    "                    err += dy\n",
    "                y += sy\n",
    "        self.pixel(x,y,1)\n",
    "    \n",
    "    def blit(self):\n",
    "        raise NotImplementedError()\n",
    "\n",
    "    def scroll(self):\n",
    "        raise NotImplementedError()\n",
    "\n",
    "    def text(self):\n",
    "        raise NotImplementedError()\n",
    "\n",
    "\n",
    "class FrameBuffer1(FrameBuffer):\n",
    "    pass"
   ]
  },
  {
   "cell_type": "code",
   "execution_count": 65,
   "metadata": {},
   "outputs": [],
   "source": [
    "# MicroPython SSD1306 OLED driver, I2C and SPI interfaces\n",
    "\n",
    "def const(x):\n",
    "    return x\n",
    "\n",
    "\n",
    "# register definitions\n",
    "SET_CONTRAST = const(0x81)\n",
    "SET_ENTIRE_ON = const(0xA4)\n",
    "SET_NORM_INV = const(0xA6)\n",
    "SET_DISP = const(0xAE)\n",
    "SET_MEM_ADDR = const(0x20)\n",
    "SET_COL_ADDR = const(0x21)\n",
    "SET_PAGE_ADDR = const(0x22)\n",
    "SET_DISP_START_LINE = const(0x40)\n",
    "SET_SEG_REMAP = const(0xA0)\n",
    "SET_MUX_RATIO = const(0xA8)\n",
    "SET_COM_OUT_DIR = const(0xC0)\n",
    "SET_DISP_OFFSET = const(0xD3)\n",
    "SET_COM_PIN_CFG = const(0xDA)\n",
    "SET_DISP_CLK_DIV = const(0xD5)\n",
    "SET_PRECHARGE = const(0xD9)\n",
    "SET_VCOM_DESEL = const(0xDB)\n",
    "SET_CHARGE_PUMP = const(0x8D)\n",
    "\n",
    "# Subclassing FrameBuffer provides support for graphics primitives\n",
    "# http://docs.micropython.org/en/latest/pyboard/library/framebuf.html\n",
    "class SSD1306(FrameBuffer):\n",
    "    def __init__(self, width, height, external_vcc):\n",
    "        self.width = width\n",
    "        self.height = height\n",
    "        self.external_vcc = external_vcc\n",
    "        self.pages = self.height // 8\n",
    "        self.buffer = bytearray(self.pages * self.width)\n",
    "        super().__init__(self.buffer, self.width, self.height, MVLSB)\n",
    "        self.init_display()\n",
    "\n",
    "    def init_display(self):\n",
    "        for cmd in (\n",
    "            SET_DISP | 0x00,  # off\n",
    "            # address setting\n",
    "            SET_MEM_ADDR,\n",
    "            0x00,  # horizontal\n",
    "            # resolution and layout\n",
    "            SET_DISP_START_LINE | 0x00,\n",
    "            SET_SEG_REMAP | 0x01,  # column addr 127 mapped to SEG0\n",
    "            SET_MUX_RATIO,\n",
    "            self.height - 1,\n",
    "            SET_COM_OUT_DIR | 0x08,  # scan from COM[N] to COM0\n",
    "            SET_DISP_OFFSET,\n",
    "            0x00,\n",
    "            SET_COM_PIN_CFG,\n",
    "            0x02 if self.width > 2 * self.height else 0x12,\n",
    "            # timing and driving scheme\n",
    "            SET_DISP_CLK_DIV,\n",
    "            0x80,\n",
    "            SET_PRECHARGE,\n",
    "            0x22 if self.external_vcc else 0xF1,\n",
    "            SET_VCOM_DESEL,\n",
    "            0x30,  # 0.83*Vcc\n",
    "            # display\n",
    "            SET_CONTRAST,\n",
    "            0xFF,  # maximum\n",
    "            SET_ENTIRE_ON,  # output follows RAM contents\n",
    "            SET_NORM_INV,  # not inverted\n",
    "            # charge pump\n",
    "            SET_CHARGE_PUMP,\n",
    "            0x10 if self.external_vcc else 0x14,\n",
    "            SET_DISP | 0x01,\n",
    "        ):  # on\n",
    "            self.write_cmd(cmd)\n",
    "        self.fill(0)\n",
    "        self.show()\n",
    "\n",
    "    def poweroff(self):\n",
    "        self.write_cmd(SET_DISP | 0x00)\n",
    "\n",
    "    def poweron(self):\n",
    "        self.write_cmd(SET_DISP | 0x01)\n",
    "\n",
    "    def contrast(self, contrast):\n",
    "        self.write_cmd(SET_CONTRAST)\n",
    "        self.write_cmd(contrast)\n",
    "\n",
    "    def invert(self, invert):\n",
    "        self.write_cmd(SET_NORM_INV | (invert & 1))\n",
    "\n",
    "    def show(self):\n",
    "        x0 = 0\n",
    "        x1 = self.width - 1\n",
    "        if self.width == 64:\n",
    "            # displays with width of 64 pixels are shifted by 32\n",
    "            x0 += 32\n",
    "            x1 += 32\n",
    "        self.write_cmd(SET_COL_ADDR)\n",
    "        self.write_cmd(x0)\n",
    "        self.write_cmd(x1)\n",
    "        self.write_cmd(SET_PAGE_ADDR)\n",
    "        self.write_cmd(0)\n",
    "        self.write_cmd(self.pages - 1)\n",
    "        self.write_data(self.buffer)\n",
    "\n",
    "\n",
    "class SSD1306_I2C(SSD1306):\n",
    "    def __init__(self, width, height, i2c, addr=0x3C, external_vcc=False):\n",
    "        self.i2c = i2c\n",
    "        self.addr = addr\n",
    "        _ffi = cffi.FFI()\n",
    "        self.temp = _ffi.new(\"unsigned char [32]\")\n",
    "        self.write_list = _ffi.new(\"unsigned char []\")\n",
    "        super().__init__(width, height, external_vcc)\n",
    "\n",
    "    def write_cmd(self, cmd):\n",
    "        self.temp[0] = 0x80 # Co=1, D/C#=0\n",
    "        self.temp[1] = cmd\n",
    "        self.i2c.send(self.addr, self.temp, 2, 0)\n",
    "\n",
    "    def write_data(self, buf):\n",
    "        self.write_list[0] = 0x40\n",
    "        self.write_list[1:] = bytes(buf)\n",
    "        self.i2c.send(self.addr, self.write_list, 2, 0)\n",
    "\n"
   ]
  },
  {
   "cell_type": "code",
   "execution_count": 64,
   "metadata": {},
   "outputs": [
    {
     "ename": "TypeError",
     "evalue": "an integer is required",
     "output_type": "error",
     "traceback": [
      "\u001b[0;31m---------------------------------------------------------------------------\u001b[0m",
      "\u001b[0;31mTypeError\u001b[0m                                 Traceback (most recent call last)",
      "\u001b[0;32m<ipython-input-64-fc76810b502e>\u001b[0m in \u001b[0;36m<module>\u001b[0;34m()\u001b[0m\n\u001b[0;32m----> 1\u001b[0;31m \u001b[0moled\u001b[0m \u001b[0;34m=\u001b[0m \u001b[0mSSD1306_I2C\u001b[0m\u001b[0;34m(\u001b[0m\u001b[0;36m128\u001b[0m\u001b[0;34m,\u001b[0m \u001b[0;36m32\u001b[0m\u001b[0;34m,\u001b[0m \u001b[0mi2c\u001b[0m\u001b[0;34m)\u001b[0m\u001b[0;34m\u001b[0m\u001b[0m\n\u001b[0m",
      "\u001b[0;32m<ipython-input-63-bbcd55ea83f9>\u001b[0m in \u001b[0;36m__init__\u001b[0;34m(self, width, height, i2c, addr, external_vcc)\u001b[0m\n\u001b[1;32m    109\u001b[0m         \u001b[0mself\u001b[0m\u001b[0;34m.\u001b[0m\u001b[0mtemp\u001b[0m \u001b[0;34m=\u001b[0m \u001b[0m_ffi\u001b[0m\u001b[0;34m.\u001b[0m\u001b[0mnew\u001b[0m\u001b[0;34m(\u001b[0m\u001b[0;34m\"unsigned char [32]\"\u001b[0m\u001b[0;34m)\u001b[0m\u001b[0;34m\u001b[0m\u001b[0m\n\u001b[1;32m    110\u001b[0m         \u001b[0mself\u001b[0m\u001b[0;34m.\u001b[0m\u001b[0mwrite_list\u001b[0m \u001b[0;34m=\u001b[0m \u001b[0m_ffi\u001b[0m\u001b[0;34m.\u001b[0m\u001b[0mnew\u001b[0m\u001b[0;34m(\u001b[0m\u001b[0;34m\"unsigned char [32]\"\u001b[0m\u001b[0;34m)\u001b[0m\u001b[0;34m\u001b[0m\u001b[0m\n\u001b[0;32m--> 111\u001b[0;31m         \u001b[0msuper\u001b[0m\u001b[0;34m(\u001b[0m\u001b[0;34m)\u001b[0m\u001b[0;34m.\u001b[0m\u001b[0m__init__\u001b[0m\u001b[0;34m(\u001b[0m\u001b[0mwidth\u001b[0m\u001b[0;34m,\u001b[0m \u001b[0mheight\u001b[0m\u001b[0;34m,\u001b[0m \u001b[0mexternal_vcc\u001b[0m\u001b[0;34m)\u001b[0m\u001b[0;34m\u001b[0m\u001b[0m\n\u001b[0m\u001b[1;32m    112\u001b[0m \u001b[0;34m\u001b[0m\u001b[0m\n\u001b[1;32m    113\u001b[0m     \u001b[0;32mdef\u001b[0m \u001b[0mwrite_cmd\u001b[0m\u001b[0;34m(\u001b[0m\u001b[0mself\u001b[0m\u001b[0;34m,\u001b[0m \u001b[0mcmd\u001b[0m\u001b[0;34m)\u001b[0m\u001b[0;34m:\u001b[0m\u001b[0;34m\u001b[0m\u001b[0m\n",
      "\u001b[0;32m<ipython-input-63-bbcd55ea83f9>\u001b[0m in \u001b[0;36m__init__\u001b[0;34m(self, width, height, external_vcc)\u001b[0m\n\u001b[1;32m     34\u001b[0m         \u001b[0mself\u001b[0m\u001b[0;34m.\u001b[0m\u001b[0mbuffer\u001b[0m \u001b[0;34m=\u001b[0m \u001b[0mbytearray\u001b[0m\u001b[0;34m(\u001b[0m\u001b[0mself\u001b[0m\u001b[0;34m.\u001b[0m\u001b[0mpages\u001b[0m \u001b[0;34m*\u001b[0m \u001b[0mself\u001b[0m\u001b[0;34m.\u001b[0m\u001b[0mwidth\u001b[0m\u001b[0;34m)\u001b[0m\u001b[0;34m\u001b[0m\u001b[0m\n\u001b[1;32m     35\u001b[0m         \u001b[0msuper\u001b[0m\u001b[0;34m(\u001b[0m\u001b[0;34m)\u001b[0m\u001b[0;34m.\u001b[0m\u001b[0m__init__\u001b[0m\u001b[0;34m(\u001b[0m\u001b[0mself\u001b[0m\u001b[0;34m.\u001b[0m\u001b[0mbuffer\u001b[0m\u001b[0;34m,\u001b[0m \u001b[0mself\u001b[0m\u001b[0;34m.\u001b[0m\u001b[0mwidth\u001b[0m\u001b[0;34m,\u001b[0m \u001b[0mself\u001b[0m\u001b[0;34m.\u001b[0m\u001b[0mheight\u001b[0m\u001b[0;34m,\u001b[0m \u001b[0mMVLSB\u001b[0m\u001b[0;34m)\u001b[0m\u001b[0;34m\u001b[0m\u001b[0m\n\u001b[0;32m---> 36\u001b[0;31m         \u001b[0mself\u001b[0m\u001b[0;34m.\u001b[0m\u001b[0minit_display\u001b[0m\u001b[0;34m(\u001b[0m\u001b[0;34m)\u001b[0m\u001b[0;34m\u001b[0m\u001b[0m\n\u001b[0m\u001b[1;32m     37\u001b[0m \u001b[0;34m\u001b[0m\u001b[0m\n\u001b[1;32m     38\u001b[0m     \u001b[0;32mdef\u001b[0m \u001b[0minit_display\u001b[0m\u001b[0;34m(\u001b[0m\u001b[0mself\u001b[0m\u001b[0;34m)\u001b[0m\u001b[0;34m:\u001b[0m\u001b[0;34m\u001b[0m\u001b[0m\n",
      "\u001b[0;32m<ipython-input-63-bbcd55ea83f9>\u001b[0m in \u001b[0;36minit_display\u001b[0;34m(self)\u001b[0m\n\u001b[1;32m     71\u001b[0m             \u001b[0mself\u001b[0m\u001b[0;34m.\u001b[0m\u001b[0mwrite_cmd\u001b[0m\u001b[0;34m(\u001b[0m\u001b[0mcmd\u001b[0m\u001b[0;34m)\u001b[0m\u001b[0;34m\u001b[0m\u001b[0m\n\u001b[1;32m     72\u001b[0m         \u001b[0mself\u001b[0m\u001b[0;34m.\u001b[0m\u001b[0mfill\u001b[0m\u001b[0;34m(\u001b[0m\u001b[0;36m0\u001b[0m\u001b[0;34m)\u001b[0m\u001b[0;34m\u001b[0m\u001b[0m\n\u001b[0;32m---> 73\u001b[0;31m         \u001b[0mself\u001b[0m\u001b[0;34m.\u001b[0m\u001b[0mshow\u001b[0m\u001b[0;34m(\u001b[0m\u001b[0;34m)\u001b[0m\u001b[0;34m\u001b[0m\u001b[0m\n\u001b[0m\u001b[1;32m     74\u001b[0m \u001b[0;34m\u001b[0m\u001b[0m\n\u001b[1;32m     75\u001b[0m     \u001b[0;32mdef\u001b[0m \u001b[0mpoweroff\u001b[0m\u001b[0;34m(\u001b[0m\u001b[0mself\u001b[0m\u001b[0;34m)\u001b[0m\u001b[0;34m:\u001b[0m\u001b[0;34m\u001b[0m\u001b[0m\n",
      "\u001b[0;32m<ipython-input-63-bbcd55ea83f9>\u001b[0m in \u001b[0;36mshow\u001b[0;34m(self)\u001b[0m\n\u001b[1;32m     99\u001b[0m         \u001b[0mself\u001b[0m\u001b[0;34m.\u001b[0m\u001b[0mwrite_cmd\u001b[0m\u001b[0;34m(\u001b[0m\u001b[0;36m0\u001b[0m\u001b[0;34m)\u001b[0m\u001b[0;34m\u001b[0m\u001b[0m\n\u001b[1;32m    100\u001b[0m         \u001b[0mself\u001b[0m\u001b[0;34m.\u001b[0m\u001b[0mwrite_cmd\u001b[0m\u001b[0;34m(\u001b[0m\u001b[0mself\u001b[0m\u001b[0;34m.\u001b[0m\u001b[0mpages\u001b[0m \u001b[0;34m-\u001b[0m \u001b[0;36m1\u001b[0m\u001b[0;34m)\u001b[0m\u001b[0;34m\u001b[0m\u001b[0m\n\u001b[0;32m--> 101\u001b[0;31m         \u001b[0mself\u001b[0m\u001b[0;34m.\u001b[0m\u001b[0mwrite_data\u001b[0m\u001b[0;34m(\u001b[0m\u001b[0mself\u001b[0m\u001b[0;34m.\u001b[0m\u001b[0mbuffer\u001b[0m\u001b[0;34m)\u001b[0m\u001b[0;34m\u001b[0m\u001b[0m\n\u001b[0m\u001b[1;32m    102\u001b[0m \u001b[0;34m\u001b[0m\u001b[0m\n\u001b[1;32m    103\u001b[0m \u001b[0;34m\u001b[0m\u001b[0m\n",
      "\u001b[0;32m<ipython-input-63-bbcd55ea83f9>\u001b[0m in \u001b[0;36mwrite_data\u001b[0;34m(self, buf)\u001b[0m\n\u001b[1;32m    118\u001b[0m     \u001b[0;32mdef\u001b[0m \u001b[0mwrite_data\u001b[0m\u001b[0;34m(\u001b[0m\u001b[0mself\u001b[0m\u001b[0;34m,\u001b[0m \u001b[0mbuf\u001b[0m\u001b[0;34m)\u001b[0m\u001b[0;34m:\u001b[0m\u001b[0;34m\u001b[0m\u001b[0m\n\u001b[1;32m    119\u001b[0m         \u001b[0mself\u001b[0m\u001b[0;34m.\u001b[0m\u001b[0mwrite_list\u001b[0m\u001b[0;34m[\u001b[0m\u001b[0;36m0\u001b[0m\u001b[0;34m]\u001b[0m \u001b[0;34m=\u001b[0m \u001b[0;36m0x40\u001b[0m\u001b[0;34m\u001b[0m\u001b[0m\n\u001b[0;32m--> 120\u001b[0;31m         \u001b[0mself\u001b[0m\u001b[0;34m.\u001b[0m\u001b[0mwrite_list\u001b[0m\u001b[0;34m[\u001b[0m\u001b[0;36m1\u001b[0m\u001b[0;34m]\u001b[0m \u001b[0;34m=\u001b[0m \u001b[0mbytes\u001b[0m\u001b[0;34m(\u001b[0m\u001b[0mbuf\u001b[0m\u001b[0;34m)\u001b[0m\u001b[0;34m\u001b[0m\u001b[0m\n\u001b[0m\u001b[1;32m    121\u001b[0m         \u001b[0mself\u001b[0m\u001b[0;34m.\u001b[0m\u001b[0mi2c\u001b[0m\u001b[0;34m.\u001b[0m\u001b[0msend\u001b[0m\u001b[0;34m(\u001b[0m\u001b[0mself\u001b[0m\u001b[0;34m.\u001b[0m\u001b[0maddr\u001b[0m\u001b[0;34m,\u001b[0m \u001b[0mself\u001b[0m\u001b[0;34m.\u001b[0m\u001b[0mwrite_list\u001b[0m\u001b[0;34m,\u001b[0m \u001b[0;36m2\u001b[0m\u001b[0;34m,\u001b[0m \u001b[0;36m0\u001b[0m\u001b[0;34m)\u001b[0m\u001b[0;34m\u001b[0m\u001b[0m\n\u001b[1;32m    122\u001b[0m \u001b[0;34m\u001b[0m\u001b[0m\n",
      "\u001b[0;31mTypeError\u001b[0m: an integer is required"
     ]
    }
   ],
   "source": [
    "oled = SSD1306_I2C(128, 32, i2c)"
   ]
  }
 ],
 "metadata": {
  "kernelspec": {
   "display_name": "Python 3",
   "language": "python",
   "name": "python3"
  },
  "language_info": {
   "codemirror_mode": {
    "name": "ipython",
    "version": 3
   },
   "file_extension": ".py",
   "mimetype": "text/x-python",
   "name": "python",
   "nbconvert_exporter": "python",
   "pygments_lexer": "ipython3",
   "version": "3.6.5"
  }
 },
 "nbformat": 4,
 "nbformat_minor": 2
}
