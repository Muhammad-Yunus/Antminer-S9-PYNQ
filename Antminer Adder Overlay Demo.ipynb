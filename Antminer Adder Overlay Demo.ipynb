{
 "cells": [
  {
   "cell_type": "markdown",
   "metadata": {},
   "source": [
    "# Adder Overlay Demo\n",
    "\n",
    "- Install Vivado 2019.1 or latter\n",
    "    - Apply [patch Y2K22](https://adaptivesupport.amd.com/s/article/76960?language=en_US) if necessary\n",
    "- Download Antimer S9 Board File :\n",
    "    - https://github.com/trebisky/Antminer/tree/master/board_files\n",
    "- Follow tutorial for creating Overlay in Vivado from [this link](https://fpga-eetrend-com.translate.goog/blog/2019/100016903.html?_x_tr_sl=auto&_x_tr_tl=id&_x_tr_hl=id&_x_tr_pto=wapp)\n",
    "\n"
   ]
  },
  {
   "cell_type": "code",
   "execution_count": null,
   "metadata": {},
   "outputs": [],
   "source": [
    "from pynq import Overlay\n",
    "\n",
    "overlay = Overlay('adder.bit')"
   ]
  },
  {
   "cell_type": "code",
   "execution_count": 2,
   "metadata": {},
   "outputs": [],
   "source": [
    "add_ip = overlay.scalar_add"
   ]
  },
  {
   "cell_type": "code",
   "execution_count": null,
   "metadata": {},
   "outputs": [],
   "source": [
    "add_ip.write(0x10, 4)\n",
    "add_ip.write(0x18, 5)\n",
    "add_ip.read(0x20)"
   ]
  },
  {
   "cell_type": "code",
   "execution_count": null,
   "metadata": {},
   "outputs": [],
   "source": [
    "add_ip.register_map"
   ]
  },
  {
   "cell_type": "code",
   "execution_count": null,
   "metadata": {},
   "outputs": [],
   "source": [
    "# We can interact with the IP using the register map directly\n",
    "\n",
    "add_ip.register_map.a = 3\n",
    "add_ip.register_map.b = 4\n",
    "add_ip.register_map.c"
   ]
  }
 ],
 "metadata": {
  "kernelspec": {
   "display_name": "Python 3",
   "language": "python",
   "name": "python3"
  }
 },
 "nbformat": 4,
 "nbformat_minor": 2
}
