{
 "cells": [
  {
   "cell_type": "markdown",
   "metadata": {},
   "source": [
    "# Demo Camera OV7670\n",
    "- Source : https://github.com/m-dilorenzi/OV7670-PynqZ2<br><br>\n",
    "\n",
    "<img src=\"resource/OV7670 wiring.jpg\" width=\"900px\">"
   ]
  },
  {
   "cell_type": "code",
   "execution_count": 6,
   "metadata": {},
   "outputs": [
    {
     "data": {
      "application/javascript": "\nrequire(['notebook/js/codecell'], function(codecell) {\n  codecell.CodeCell.options_default.highlight_modes[\n      'magic_text/x-csrc'] = {'reg':[/^%%microblaze/]};\n  Jupyter.notebook.events.one('kernel_ready.Kernel', function(){\n      Jupyter.notebook.get_cells().map(function(cell){\n          if (cell.cell_type == 'code'){ cell.auto_highlight(); } }) ;\n  });\n});\n"
     },
     "metadata": {},
     "output_type": "display_data"
    }
   ],
   "source": [
    "from pynq import Overlay, MMIO, lib\n",
    "from pynq.lib.video import VideoMode\n",
    "from pynq.lib import AxiGPIO\n",
    "from pynq.lib.iic import AxiIIC\n",
    "from PIL import Image\n",
    "import cffi\n",
    "from time import sleep"
   ]
  },
  {
   "cell_type": "markdown",
   "metadata": {},
   "source": [
    "<font color=\"orange\"> ⚠️⚠️⚠️ Before starting this piece of code be sure that `STARTUP` pin is in `OFF` position ⚠️⚠️⚠️</font>"
   ]
  },
  {
   "cell_type": "code",
   "execution_count": 7,
   "metadata": {},
   "outputs": [],
   "source": [
    "overlay = Overlay(\"antminerOV7670.bit\")"
   ]
  },
  {
   "cell_type": "code",
   "execution_count": 8,
   "metadata": {},
   "outputs": [],
   "source": [
    "i2c = AxiIIC(overlay.ip_dict['axi_iic'])\n",
    "\n",
    "# soft reset I2C\n",
    "XIIC_RESETR_OFFSET = 0x40\n",
    "XIIC_RESET_MASK = 0x0000000A\n",
    "\n",
    "i2c.write(XIIC_RESETR_OFFSET, XIIC_RESET_MASK)"
   ]
  },
  {
   "cell_type": "code",
   "execution_count": 12,
   "metadata": {},
   "outputs": [],
   "source": [
    "for address in range(0x00, 0x77):\n",
    "    try:\n",
    "        # Attempt to read 1 byte from the current address\n",
    "        i2c.send(address, [0x00], 1)\n",
    "        print(f\"Found I2C device at address: 0x{address:02X}\")\n",
    "    except Exception:\n",
    "        # No response from the current address\n",
    "        pass"
   ]
  },
  {
   "cell_type": "code",
   "execution_count": 8,
   "metadata": {},
   "outputs": [],
   "source": [
    "# Class to manage the convolution filter mapped on FPGA. It provides method to modify \"on fly\" the kernel (7x7)\n",
    "class Convolution_Filter:\n",
    "    def __init__(self, overlay, base_address=0x43C10000, address_range=0x10000, address_offset=0x40):\n",
    "        self.base_address = base_address\n",
    "        self.address_range = address_range\n",
    "        self.address_offset = address_offset\n",
    "        self.offset = 0x04\n",
    "        self.mmio = MMIO(base_address, address_range)\n",
    "        self.conv = overlay.filter.convolution_filter\n",
    "        \n",
    "    def update_filter(self, fil):\n",
    "        if(len(fil) != 51):\n",
    "            print(\"La lunghezza del filtro deve essere di 51 elementi\")\n",
    "            \n",
    "        address = self.address_offset\n",
    "        data = 0x00000000\n",
    "        bits_shift = 0\n",
    "        counter = 0\n",
    "        \n",
    "        for el in fil:\n",
    "            if(bits_shift >= 32):\n",
    "                self.mmio.write(address, data)\n",
    "                data = 0x00000000\n",
    "                bits_shift = 0\n",
    "                address = address + self.offset\n",
    "            \n",
    "            counter += 1\n",
    "            data = data | (el << bits_shift)\n",
    "            bits_shift += 8\n",
    "            if(counter >= 51):\n",
    "                self.mmio.write(address, data)\n",
    "    \n",
    "    def print_filter(self):\n",
    "        f1 = self.conv.mmio.array.view('int8')[0x40:0x71]\n",
    "        f2 = self.conv.mmio.array.view('int8')[0x71:0x73]\n",
    "        \n",
    "        print(f1.reshape((7,7)))\n",
    "        print(f2.reshape((1,2)))"
   ]
  },
  {
   "cell_type": "code",
   "execution_count": 9,
   "metadata": {},
   "outputs": [],
   "source": [
    "# Class to manage OV7670 sensor. \n",
    "# It provides basic methods to write and read sensor's registers and a basic setup that works quite well in our configuration\n",
    "\n",
    "class OV7670:\n",
    "    def __init__(self, iic):\n",
    "        self.OV7670_SLAVE_ADDRESS = 0x21\n",
    "        \n",
    "        _ffi = cffi.FFI()\n",
    "        self.tx_buf = _ffi.new(\"unsigned char [32]\")\n",
    "        self.rx_buf = _ffi.new(\"unsigned char [32]\")\n",
    "        \n",
    "        self.iic = iic\n",
    "\n",
    "    def write_register(self, reg, data):\n",
    "        self.tx_buf[0] = reg\n",
    "        self.tx_buf[1] = data\n",
    "        self.iic.send(self.OV7670_SLAVE_ADDRESS, self.tx_buf, 2, 0)\n",
    "        #print(\"write register \" + str(hex(reg)) + \" : \" + str(hex(data)))\n",
    "\n",
    "    def read_register(self, reg):\n",
    "        self.tx_buf[0] = reg\n",
    "\n",
    "        self.iic.send(self.OV7670_SLAVE_ADDRESS, self.tx_buf, 1, 0)\n",
    "        self.iic.receive(self.OV7670_SLAVE_ADDRESS, self.rx_buf, 1, 0)\n",
    "        \n",
    "        return self.rx_buf[0]\n",
    "\n",
    "    def default_setup(self):\n",
    "        self.write_register(0x12, 0x80)  # Reset the OV7670 (initiate reset)\n",
    "        self.write_register(0x0E, 0x01)  # Set PLL multiplier (this configures the clock PLL)\n",
    "        self.write_register(0x0F, 0x4B)  # Set PLL prescaler (adjust the PLL settings for correct frame rate)\n",
    "        self.write_register(0x16, 0x02)  # Set exposure time (adjust the exposure control)\n",
    "        self.write_register(0x1E, 0x07)  # Set VREF (vertical reference) signal to 0x07\n",
    "        self.write_register(0x21, 0x02)  # Set AGC (Automatic Gain Control) to default\n",
    "        self.write_register(0x22, 0x91)  # Set AEC (Automatic Exposure Control) to default\n",
    "        self.write_register(0x29, 0x07)  # Set BLC (Black Level Compensation) to 0x07\n",
    "        self.write_register(0x33, 0x0B)  # Set AGC gain (control automatic gain)\n",
    "        self.write_register(0x35, 0x0B)  # Set another AGC gain register (fine-tune the AGC)\n",
    "        self.write_register(0x37, 0x1D)  # Set the gamma curve (adjust brightness/contrast)\n",
    "        self.write_register(0x38, 0x01)  # Enable Gamma correction\n",
    "        #self.write_register(0x0C, 0x00)  # Disable color matrix (configure output to grayscale)\n",
    "        self.write_register(0x3C, 0x78)  # Set the contrast (adjust contrast of the image)\n",
    "        self.write_register(0x4D, 0x40)  # Set U and V scaling factor (affects color output)\n",
    "        self.write_register(0x4E, 0x20)  # Set U and V scaling factor (affects color output)\n",
    "        self.write_register(0x74, 0x10)  # Set horizontal scaling (affects horizontal resolution)\n",
    "        self.write_register(0x8D, 0x4F)  # Set sharpen control (enhance image details)\n",
    "        self.write_register(0x8E, 0x00)  # Set sharpen level to default (disable sharpening)\n",
    "        self.write_register(0x8F, 0x00)  # Set sharpening threshold to default (no sharpening)\n",
    "        self.write_register(0x90, 0x00)  # Set sharpening control to default (disable)\n",
    "        self.write_register(0x91, 0x00)  # Set sharpening control to default (disable)\n",
    "        self.write_register(0x96, 0x00)  # Set color saturation to default (no saturation)\n",
    "        self.write_register(0x9A, 0x00)  # Set color saturation to default (no saturation)\n",
    "        self.write_register(0xB0, 0x84)  # Set gamma control (fine-tune gamma for contrast)\n",
    "        self.write_register(0xB1, 0x04)  # Set gamma control (fine-tune gamma curve)\n",
    "        self.write_register(0xB2, 0x0E)  # Set gamma control (fine-tune gamma curve)\n",
    "        self.write_register(0xB3, 0x82)  # Set gamma control (fine-tune gamma curve)\n",
    "        self.write_register(0xB8, 0x0A)  # Set gamma control (fine-tune gamma curve)\n",
    "\n"
   ]
  },
  {
   "cell_type": "code",
   "execution_count": 10,
   "metadata": {},
   "outputs": [],
   "source": [
    "# Usage example of OV7670 class to program sensor with a basic setup\n",
    "iic = overlay.axi_iic\n",
    "ov7670 = OV7670(iic)"
   ]
  },
  {
   "cell_type": "code",
   "execution_count": null,
   "metadata": {},
   "outputs": [],
   "source": [
    "ov7670.default_setup()"
   ]
  },
  {
   "cell_type": "markdown",
   "metadata": {},
   "source": [
    "<font color=\"orange\"> ⚠️⚠️⚠️ Before executing this piece of code set `STARTUP` pin to `ON` position ⚠️⚠️⚠️</font>"
   ]
  },
  {
   "cell_type": "code",
   "execution_count": null,
   "metadata": {},
   "outputs": [],
   "source": [
    "# Usage example of convolution filter class\n",
    "sharpen_filter = [\n",
    "    1, 0, 0, 0, 0, 0, 0,\n",
    "    0, 1, 0, 0, 0, 0, 0,\n",
    "    0, 0, 1, 0, 0, 0, 0,\n",
    "    0, 0, 0, 1, 0, 0, 0,\n",
    "    0, 0, 0, 0, 1, 0, 0,\n",
    "    0, 0, 0, 0, 0, 1, 0,\n",
    "    0, 0, 0, 0, 0, 0, 1,\n",
    "    7, 0]\n",
    "\n",
    "neutral_filter = [\n",
    "    0, 0, 0, 0, 0, 0, 0,\n",
    "    0, 0, 0, 0, 0, 0, 0,\n",
    "    0, 0, 0, 0, 0, 0, 0,\n",
    "    0, 0, 0, 1, 0, 0, 0,\n",
    "    0, 0, 0, 0, 0, 0, 0,\n",
    "    0, 0, 0, 0, 0, 0, 0,\n",
    "    0, 0, 0, 0, 0, 0, 0,\n",
    "    1, 0]\n",
    "\n",
    "vertical_filter = [\n",
    "\t-1, -2, -4, 0, 4, 2, 1,\n",
    "\t-1, -2, -4, 0, 4, 2, 1,\n",
    "\t-2, -4, -6, 0, 6, 4, 2,\n",
    "\t-4, -6, -8, 0, 8, 6, 4,\n",
    "\t-2, -4, -6, 0, 6, 4, 2,\n",
    "\t-1, -2, -4, 0, 4, 2, 1,\n",
    "\t-1, -2, -4, 0, 4, 2, 1,\n",
    "    120, 127]\n",
    "\n",
    "fil = Convolution_Filter(overlay)\n",
    "fil.update_filter(neutral_filter)"
   ]
  },
  {
   "cell_type": "code",
   "execution_count": 12,
   "metadata": {},
   "outputs": [],
   "source": [
    "# Configuration of vdma with a resolution of 800x600 and 24 bit for each pixel\n",
    "vdma = overlay.VDMA.axi_vdma\n",
    "\n",
    "vdma.readchannel.reset()\n",
    "vdma.readchannel.mode = VideoMode(800, 600, 24)\n",
    "vdma.readchannel.start()\n",
    "\n",
    "# vdma.writechannel.reset()\n",
    "# vdma.writechannel.mode = VideoMode(800, 600, 24)\n",
    "# vdma.writechannel.start()"
   ]
  },
  {
   "cell_type": "code",
   "execution_count": null,
   "metadata": {},
   "outputs": [],
   "source": [
    "frame = vdma.readchannel.readframe() # Needed because first frame is always black"
   ]
  },
  {
   "cell_type": "code",
   "execution_count": 13,
   "metadata": {},
   "outputs": [],
   "source": [
    "#vdma.readchannel.tie(vdma.writechannel) # Connect input directly to output of vdma"
   ]
  },
  {
   "cell_type": "code",
   "execution_count": 12,
   "metadata": {},
   "outputs": [],
   "source": [
    "from IPython.display import display, clear_output"
   ]
  },
  {
   "cell_type": "code",
   "execution_count": null,
   "metadata": {},
   "outputs": [],
   "source": [
    "frame = vdma.readchannel.readframe()\n",
    "clear_output(wait=True)\n",
    "img = Image.fromarray(frame, 'RGB')\n",
    "# img = cv2.cvtColor(frame, cv2.COLOR_GRAY2RGB)\n",
    "# img = Image.fromarray(img)\n",
    "display(img)\n",
    "#img.save(\"img.png\")"
   ]
  },
  {
   "cell_type": "code",
   "execution_count": 20,
   "metadata": {},
   "outputs": [],
   "source": [
    "import cv2\n",
    "import numpy as np"
   ]
  },
  {
   "cell_type": "code",
   "execution_count": null,
   "metadata": {},
   "outputs": [],
   "source": [
    "# Convert the PIL image to a NumPy array\n",
    "img_array = np.array(img)\n",
    "\n",
    "# Slice the image into 4 parts\n",
    "part1 = img_array[:206, :359, :] # TL\n",
    "part2 = img_array[:206, 360:, :] # TR\n",
    "part3 = img_array[207:, :359, :] # BL\n",
    "part4 = img_array[207:, 360:, :] # BR\n",
    "\n",
    "# Merge the two parts with part2 on the left followed by part1\n",
    "T = np.concatenate((part2, part1), axis=1)\n",
    "B = np.concatenate((part4, part3), axis=1)\n",
    "merged_img = np.concatenate((B,T), axis=0)\n",
    "\n",
    "# Convert the merged image back to a PIL image\n",
    "merged_img_pil = Image.fromarray(merged_img)\n",
    "\n",
    "# Display the merged image\n",
    "display(merged_img_pil)"
   ]
  },
  {
   "cell_type": "code",
   "execution_count": null,
   "metadata": {},
   "outputs": [],
   "source": []
  }
 ],
 "metadata": {
  "kernelspec": {
   "display_name": "Python 3",
   "language": "python",
   "name": "python3"
  },
  "language_info": {
   "codemirror_mode": {
    "name": "ipython",
    "version": 3
   },
   "file_extension": ".py",
   "mimetype": "text/x-python",
   "name": "python",
   "nbconvert_exporter": "python",
   "pygments_lexer": "ipython3",
   "version": "3.6.5"
  }
 },
 "nbformat": 4,
 "nbformat_minor": 2
}
